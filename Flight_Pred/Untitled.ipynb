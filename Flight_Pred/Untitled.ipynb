{
 "cells": [
  {
   "cell_type": "markdown",
   "id": "1ea92fa9",
   "metadata": {},
   "source": [
    "Flight Price Prediction\n",
    "\n",
    "\n",
    "dataset downloaded from:\n",
    "https://www.kaggle.com/shubhambathwal/flight-price-prediction?select=Clean_Dataset.csv"
   ]
  },
  {
   "cell_type": "code",
   "execution_count": 1,
   "id": "781926a8",
   "metadata": {},
   "outputs": [],
   "source": [
    "import pandas as pd"
   ]
  },
  {
   "cell_type": "code",
   "execution_count": 2,
   "id": "fa15092b",
   "metadata": {},
   "outputs": [],
   "source": [
    "df=pd.read_csv('Flights/Clean_Dataset.csv')"
   ]
  },
  {
   "cell_type": "code",
   "execution_count": 3,
   "id": "4223ebdb",
   "metadata": {},
   "outputs": [
    {
     "data": {
      "text/html": [
       "<div>\n",
       "<style scoped>\n",
       "    .dataframe tbody tr th:only-of-type {\n",
       "        vertical-align: middle;\n",
       "    }\n",
       "\n",
       "    .dataframe tbody tr th {\n",
       "        vertical-align: top;\n",
       "    }\n",
       "\n",
       "    .dataframe thead th {\n",
       "        text-align: right;\n",
       "    }\n",
       "</style>\n",
       "<table border=\"1\" class=\"dataframe\">\n",
       "  <thead>\n",
       "    <tr style=\"text-align: right;\">\n",
       "      <th></th>\n",
       "      <th>Unnamed: 0</th>\n",
       "      <th>airline</th>\n",
       "      <th>flight</th>\n",
       "      <th>source_city</th>\n",
       "      <th>departure_time</th>\n",
       "      <th>stops</th>\n",
       "      <th>arrival_time</th>\n",
       "      <th>destination_city</th>\n",
       "      <th>class</th>\n",
       "      <th>duration</th>\n",
       "      <th>days_left</th>\n",
       "      <th>price</th>\n",
       "    </tr>\n",
       "  </thead>\n",
       "  <tbody>\n",
       "    <tr>\n",
       "      <th>0</th>\n",
       "      <td>0</td>\n",
       "      <td>SpiceJet</td>\n",
       "      <td>SG-8709</td>\n",
       "      <td>Delhi</td>\n",
       "      <td>Evening</td>\n",
       "      <td>zero</td>\n",
       "      <td>Night</td>\n",
       "      <td>Mumbai</td>\n",
       "      <td>Economy</td>\n",
       "      <td>2.17</td>\n",
       "      <td>1</td>\n",
       "      <td>5953</td>\n",
       "    </tr>\n",
       "    <tr>\n",
       "      <th>1</th>\n",
       "      <td>1</td>\n",
       "      <td>SpiceJet</td>\n",
       "      <td>SG-8157</td>\n",
       "      <td>Delhi</td>\n",
       "      <td>Early_Morning</td>\n",
       "      <td>zero</td>\n",
       "      <td>Morning</td>\n",
       "      <td>Mumbai</td>\n",
       "      <td>Economy</td>\n",
       "      <td>2.33</td>\n",
       "      <td>1</td>\n",
       "      <td>5953</td>\n",
       "    </tr>\n",
       "    <tr>\n",
       "      <th>2</th>\n",
       "      <td>2</td>\n",
       "      <td>AirAsia</td>\n",
       "      <td>I5-764</td>\n",
       "      <td>Delhi</td>\n",
       "      <td>Early_Morning</td>\n",
       "      <td>zero</td>\n",
       "      <td>Early_Morning</td>\n",
       "      <td>Mumbai</td>\n",
       "      <td>Economy</td>\n",
       "      <td>2.17</td>\n",
       "      <td>1</td>\n",
       "      <td>5956</td>\n",
       "    </tr>\n",
       "    <tr>\n",
       "      <th>3</th>\n",
       "      <td>3</td>\n",
       "      <td>Vistara</td>\n",
       "      <td>UK-995</td>\n",
       "      <td>Delhi</td>\n",
       "      <td>Morning</td>\n",
       "      <td>zero</td>\n",
       "      <td>Afternoon</td>\n",
       "      <td>Mumbai</td>\n",
       "      <td>Economy</td>\n",
       "      <td>2.25</td>\n",
       "      <td>1</td>\n",
       "      <td>5955</td>\n",
       "    </tr>\n",
       "    <tr>\n",
       "      <th>4</th>\n",
       "      <td>4</td>\n",
       "      <td>Vistara</td>\n",
       "      <td>UK-963</td>\n",
       "      <td>Delhi</td>\n",
       "      <td>Morning</td>\n",
       "      <td>zero</td>\n",
       "      <td>Morning</td>\n",
       "      <td>Mumbai</td>\n",
       "      <td>Economy</td>\n",
       "      <td>2.33</td>\n",
       "      <td>1</td>\n",
       "      <td>5955</td>\n",
       "    </tr>\n",
       "  </tbody>\n",
       "</table>\n",
       "</div>"
      ],
      "text/plain": [
       "   Unnamed: 0   airline   flight source_city departure_time stops  \\\n",
       "0           0  SpiceJet  SG-8709       Delhi        Evening  zero   \n",
       "1           1  SpiceJet  SG-8157       Delhi  Early_Morning  zero   \n",
       "2           2   AirAsia   I5-764       Delhi  Early_Morning  zero   \n",
       "3           3   Vistara   UK-995       Delhi        Morning  zero   \n",
       "4           4   Vistara   UK-963       Delhi        Morning  zero   \n",
       "\n",
       "    arrival_time destination_city    class  duration  days_left  price  \n",
       "0          Night           Mumbai  Economy      2.17          1   5953  \n",
       "1        Morning           Mumbai  Economy      2.33          1   5953  \n",
       "2  Early_Morning           Mumbai  Economy      2.17          1   5956  \n",
       "3      Afternoon           Mumbai  Economy      2.25          1   5955  \n",
       "4        Morning           Mumbai  Economy      2.33          1   5955  "
      ]
     },
     "execution_count": 3,
     "metadata": {},
     "output_type": "execute_result"
    }
   ],
   "source": [
    "df.head()"
   ]
  },
  {
   "cell_type": "markdown",
   "id": "3fc9e3e7",
   "metadata": {},
   "source": [
    "INTRODUCTION\n",
    "The objective of the study is to analyse the flight booking dataset obtained from “Ease My Trip” website and to conduct various statistical hypothesis tests in order to get meaningful information from it. The 'Linear Regression' statistical algorithm would be used to train the dataset and predict a continuous target variable. 'Easemytrip' is an internet platform for booking flight tickets, and hence a platform that potential passengers use to buy tickets. A thorough study of the data will aid in the discovery of valuable insights that will be of enormous value to passengers."
   ]
  },
  {
   "cell_type": "markdown",
   "id": "3c642d5a",
   "metadata": {},
   "source": [
    "Research Questions\n",
    "The aim of our study is to answer the below research questions:\n",
    "a) Does price vary with Airlines?\n",
    "b) How is the price affected when tickets are bought in just 1 or 2 days before departure?\n",
    "c) Does ticket price change based on the departure time and arrival time?\n",
    "d) How the price changes with change in Source and Destination?\n",
    "e) How does the ticket price vary between Economy and Business class?"
   ]
  },
  {
   "cell_type": "markdown",
   "id": "727008df",
   "metadata": {},
   "source": [
    "FEATURES\n",
    "The various features of the cleaned dataset are explained below:\n",
    "1) Airline: The name of the airline company is stored in the airline column. It is a categorical feature having 6 different   airlines.\n",
    "\n",
    "2) Flight: Flight stores information regarding the plane's flight code. It is a categorical feature.\n",
    "3) Source City: City from which the flight takes off. It is a categorical feature having 6 unique cities.\n",
    "\n",
    "4) Departure Time: This is a derived categorical feature obtained created by grouping time periods into bins. It stores information about the departure time and have 6 unique time labels.\n",
    "\n",
    "5) Stops: A categorical feature with 3 distinct values that stores the number of stops between the source and destination cities.\n",
    "\n",
    "6) Arrival Time: This is a derived categorical feature created by grouping time intervals into bins. It has six distinct time labels and keeps information about the arrival time.\n",
    "\n",
    "7) Destination City: City where the flight will land. It is a categorical feature having 6 unique cities.\n",
    "\n",
    "8) Class: A categorical feature that contains information on seat class; it has two distinct values: Business and Economy.\n",
    "\n",
    "9) Duration: A continuous feature that displays the overall amount of time it takes to travel between cities in hours.\n",
    "\n",
    "10) Days Left: This is a derived characteristic that is calculated by subtracting the trip date by the booking date.\n",
    "\n",
    "11) Price: Target variable stores information of the ticket price."
   ]
  },
  {
   "cell_type": "code",
   "execution_count": 4,
   "id": "9b2853cd",
   "metadata": {},
   "outputs": [],
   "source": [
    "import numpy as np\n",
    "import matplotlib.pyplot as plt\n",
    "import seaborn as sns"
   ]
  },
  {
   "cell_type": "code",
   "execution_count": 5,
   "id": "24ed09a0",
   "metadata": {},
   "outputs": [
    {
     "data": {
      "text/plain": [
       "Unnamed: 0          0\n",
       "airline             0\n",
       "flight              0\n",
       "source_city         0\n",
       "departure_time      0\n",
       "stops               0\n",
       "arrival_time        0\n",
       "destination_city    0\n",
       "class               0\n",
       "duration            0\n",
       "days_left           0\n",
       "price               0\n",
       "dtype: int64"
      ]
     },
     "execution_count": 5,
     "metadata": {},
     "output_type": "execute_result"
    }
   ],
   "source": [
    "df.isnull().sum()"
   ]
  },
  {
   "cell_type": "code",
   "execution_count": 8,
   "id": "f427c68e",
   "metadata": {},
   "outputs": [
    {
     "data": {
      "text/plain": [
       "<AxesSubplot:xlabel='airline', ylabel='count'>"
      ]
     },
     "execution_count": 8,
     "metadata": {},
     "output_type": "execute_result"
    },
    {
     "data": {
      "image/png": "[encoded data removed]",
      "text/plain": [
       "<Figure size 432x288 with 1 Axes>"
      ]
     },
     "metadata": {
      "needs_background": "light"
     },
     "output_type": "display_data"
    }
   ],
   "source": [
    "sns.countplot(data=df,x='airline')"
   ]
  },
  {
   "cell_type": "code",
   "execution_count": 9,
   "id": "7901d634",
   "metadata": {
    "scrolled": false
   },
   "outputs": [
    {
     "data": {
      "text/plain": [
       "<AxesSubplot:xlabel='airline', ylabel='price'>"
      ]
     },
     "execution_count": 9,
     "metadata": {},
     "output_type": "execute_result"
    },
    {
     "data": {
      "image/png": "[encoded data removed]",
      "text/plain": [
       "<Figure size 864x720 with 1 Axes>"
      ]
     },
     "metadata": {
      "needs_background": "light"
     },
     "output_type": "display_data"
    }
   ],
   "source": [
    "plt.figure(figsize=(12,10))\n",
    "sns.boxplot(x='airline',y='price',data=df)"
   ]
  },
  {
   "cell_type": "markdown",
   "id": "d904b4a0",
   "metadata": {},
   "source": [
    "a) Does price vary with Airlines?\n",
    "\n",
    "Yes, also, Vistara seems to be the most frequented airline in the dataset with the biggest price range, closely followed by Air India. The rest of the airlines represent a lower percentage of the data and have a much narrower price range."
   ]
  },
  {
   "cell_type": "code",
   "execution_count": 10,
   "id": "d771c4a8",
   "metadata": {},
   "outputs": [
    {
     "data": {
      "text/plain": [
       "Index(['Unnamed: 0', 'airline', 'flight', 'source_city', 'departure_time',\n",
       "       'stops', 'arrival_time', 'destination_city', 'class', 'duration',\n",
       "       'days_left', 'price'],\n",
       "      dtype='object')"
      ]
     },
     "execution_count": 10,
     "metadata": {},
     "output_type": "execute_result"
    }
   ],
   "source": [
    "df.columns"
   ]
  },
  {
   "cell_type": "code",
   "execution_count": null,
   "id": "5e8680a2",
   "metadata": {},
   "outputs": [],
   "source": []
  },
  {
   "cell_type": "code",
   "execution_count": null,
   "id": "64ca4ad9",
   "metadata": {},
   "outputs": [],
   "source": []
  },
  {
   "cell_type": "code",
   "execution_count": 19,
   "id": "e7e9f6f0",
   "metadata": {},
   "outputs": [
    {
     "data": {
      "text/plain": [
       "<AxesSubplot:xlabel='days_left', ylabel='price'>"
      ]
     },
     "execution_count": 19,
     "metadata": {},
     "output_type": "execute_result"
    },
    {
     "data": {
      "image/png": "[encoded data removed]",
      "text/plain": [
       "<Figure size 864x720 with 1 Axes>"
      ]
     },
     "metadata": {
      "needs_background": "light"
     },
     "output_type": "display_data"
    }
   ],
   "source": [
    "plt.figure(figsize=(12,10))\n",
    "sns.boxplot(x='days_left',y='price',data=df)"
   ]
  },
  {
   "cell_type": "code",
   "execution_count": null,
   "id": "5e1e8d75",
   "metadata": {},
   "outputs": [],
   "source": []
  },
  {
   "cell_type": "code",
   "execution_count": 31,
   "id": "75e4b5c0",
   "metadata": {},
   "outputs": [
    {
     "data": {
      "text/html": [
       "<div>\n",
       "<style scoped>\n",
       "    .dataframe tbody tr th:only-of-type {\n",
       "        vertical-align: middle;\n",
       "    }\n",
       "\n",
       "    .dataframe tbody tr th {\n",
       "        vertical-align: top;\n",
       "    }\n",
       "\n",
       "    .dataframe thead th {\n",
       "        text-align: right;\n",
       "    }\n",
       "</style>\n",
       "<table border=\"1\" class=\"dataframe\">\n",
       "  <thead>\n",
       "    <tr style=\"text-align: right;\">\n",
       "      <th></th>\n",
       "      <th>Unnamed: 0</th>\n",
       "      <th>duration</th>\n",
       "      <th>days_left</th>\n",
       "      <th>price</th>\n",
       "    </tr>\n",
       "  </thead>\n",
       "  <tbody>\n",
       "    <tr>\n",
       "      <th>count</th>\n",
       "      <td>5953.000000</td>\n",
       "      <td>5953.000000</td>\n",
       "      <td>5953.000000</td>\n",
       "      <td>5953.000000</td>\n",
       "    </tr>\n",
       "    <tr>\n",
       "      <th>mean</th>\n",
       "      <td>133621.025029</td>\n",
       "      <td>14.156123</td>\n",
       "      <td>1.676298</td>\n",
       "      <td>27421.169326</td>\n",
       "    </tr>\n",
       "    <tr>\n",
       "      <th>std</th>\n",
       "      <td>87193.754796</td>\n",
       "      <td>8.590693</td>\n",
       "      <td>0.467927</td>\n",
       "      <td>23236.028160</td>\n",
       "    </tr>\n",
       "    <tr>\n",
       "      <th>min</th>\n",
       "      <td>0.000000</td>\n",
       "      <td>0.920000</td>\n",
       "      <td>1.000000</td>\n",
       "      <td>1977.000000</td>\n",
       "    </tr>\n",
       "    <tr>\n",
       "      <th>25%</th>\n",
       "      <td>61599.000000</td>\n",
       "      <td>7.170000</td>\n",
       "      <td>1.000000</td>\n",
       "      <td>11843.000000</td>\n",
       "    </tr>\n",
       "    <tr>\n",
       "      <th>50%</th>\n",
       "      <td>119821.000000</td>\n",
       "      <td>13.080000</td>\n",
       "      <td>2.000000</td>\n",
       "      <td>16739.000000</td>\n",
       "    </tr>\n",
       "    <tr>\n",
       "      <th>75%</th>\n",
       "      <td>212034.000000</td>\n",
       "      <td>21.670000</td>\n",
       "      <td>2.000000</td>\n",
       "      <td>43193.000000</td>\n",
       "    </tr>\n",
       "    <tr>\n",
       "      <th>max</th>\n",
       "      <td>298094.000000</td>\n",
       "      <td>49.830000</td>\n",
       "      <td>2.000000</td>\n",
       "      <td>116562.000000</td>\n",
       "    </tr>\n",
       "  </tbody>\n",
       "</table>\n",
       "</div>"
      ],
      "text/plain": [
       "          Unnamed: 0     duration    days_left          price\n",
       "count    5953.000000  5953.000000  5953.000000    5953.000000\n",
       "mean   133621.025029    14.156123     1.676298   27421.169326\n",
       "std     87193.754796     8.590693     0.467927   23236.028160\n",
       "min         0.000000     0.920000     1.000000    1977.000000\n",
       "25%     61599.000000     7.170000     1.000000   11843.000000\n",
       "50%    119821.000000    13.080000     2.000000   16739.000000\n",
       "75%    212034.000000    21.670000     2.000000   43193.000000\n",
       "max    298094.000000    49.830000     2.000000  116562.000000"
      ]
     },
     "execution_count": 31,
     "metadata": {},
     "output_type": "execute_result"
    }
   ],
   "source": [
    "df[df['days_left']<3].describe()"
   ]
  },
  {
   "cell_type": "code",
   "execution_count": 26,
   "id": "8b43dcee",
   "metadata": {},
   "outputs": [
    {
     "data": {
      "text/html": [
       "<div>\n",
       "<style scoped>\n",
       "    .dataframe tbody tr th:only-of-type {\n",
       "        vertical-align: middle;\n",
       "    }\n",
       "\n",
       "    .dataframe tbody tr th {\n",
       "        vertical-align: top;\n",
       "    }\n",
       "\n",
       "    .dataframe thead th {\n",
       "        text-align: right;\n",
       "    }\n",
       "</style>\n",
       "<table border=\"1\" class=\"dataframe\">\n",
       "  <thead>\n",
       "    <tr style=\"text-align: right;\">\n",
       "      <th></th>\n",
       "      <th>Unnamed: 0</th>\n",
       "      <th>duration</th>\n",
       "      <th>days_left</th>\n",
       "      <th>price</th>\n",
       "    </tr>\n",
       "  </thead>\n",
       "  <tbody>\n",
       "    <tr>\n",
       "      <th>count</th>\n",
       "      <td>294200.000000</td>\n",
       "      <td>294200.000000</td>\n",
       "      <td>294200.000000</td>\n",
       "      <td>294200.000000</td>\n",
       "    </tr>\n",
       "    <tr>\n",
       "      <th>mean</th>\n",
       "      <td>150408.958756</td>\n",
       "      <td>12.181865</td>\n",
       "      <td>26.497026</td>\n",
       "      <td>20757.498484</td>\n",
       "    </tr>\n",
       "    <tr>\n",
       "      <th>std</th>\n",
       "      <td>86603.633378</td>\n",
       "      <td>7.155494</td>\n",
       "      <td>13.243825</td>\n",
       "      <td>22667.366491</td>\n",
       "    </tr>\n",
       "    <tr>\n",
       "      <th>min</th>\n",
       "      <td>251.000000</td>\n",
       "      <td>0.830000</td>\n",
       "      <td>3.000000</td>\n",
       "      <td>1105.000000</td>\n",
       "    </tr>\n",
       "    <tr>\n",
       "      <th>25%</th>\n",
       "      <td>75361.750000</td>\n",
       "      <td>6.750000</td>\n",
       "      <td>15.000000</td>\n",
       "      <td>4748.000000</td>\n",
       "    </tr>\n",
       "    <tr>\n",
       "      <th>50%</th>\n",
       "      <td>150664.500000</td>\n",
       "      <td>11.250000</td>\n",
       "      <td>27.000000</td>\n",
       "      <td>7347.000000</td>\n",
       "    </tr>\n",
       "    <tr>\n",
       "      <th>75%</th>\n",
       "      <td>225420.250000</td>\n",
       "      <td>16.080000</td>\n",
       "      <td>38.000000</td>\n",
       "      <td>42521.000000</td>\n",
       "    </tr>\n",
       "    <tr>\n",
       "      <th>max</th>\n",
       "      <td>300152.000000</td>\n",
       "      <td>49.830000</td>\n",
       "      <td>49.000000</td>\n",
       "      <td>123071.000000</td>\n",
       "    </tr>\n",
       "  </tbody>\n",
       "</table>\n",
       "</div>"
      ],
      "text/plain": [
       "          Unnamed: 0       duration      days_left          price\n",
       "count  294200.000000  294200.000000  294200.000000  294200.000000\n",
       "mean   150408.958756      12.181865      26.497026   20757.498484\n",
       "std     86603.633378       7.155494      13.243825   22667.366491\n",
       "min       251.000000       0.830000       3.000000    1105.000000\n",
       "25%     75361.750000       6.750000      15.000000    4748.000000\n",
       "50%    150664.500000      11.250000      27.000000    7347.000000\n",
       "75%    225420.250000      16.080000      38.000000   42521.000000\n",
       "max    300152.000000      49.830000      49.000000  123071.000000"
      ]
     },
     "execution_count": 26,
     "metadata": {},
     "output_type": "execute_result"
    }
   ],
   "source": [
    "df[df['days_left']>2].describe()"
   ]
  },
  {
   "cell_type": "markdown",
   "id": "a33e53de",
   "metadata": {},
   "source": [
    "b) How is the price affected when tickets are bought in just 1 or 2 days before departure?\n",
    "\n",
    "The mean price value of flights bought close to departure (1 or 2 days prior) is higher than the mean price value of flights bought 3 or more days before departure."
   ]
  },
  {
   "cell_type": "code",
   "execution_count": null,
   "id": "93e5f4e0",
   "metadata": {},
   "outputs": [],
   "source": []
  },
  {
   "cell_type": "code",
   "execution_count": 35,
   "id": "b2bf2eea",
   "metadata": {},
   "outputs": [
    {
     "data": {
      "text/html": [
       "<div>\n",
       "<style scoped>\n",
       "    .dataframe tbody tr th:only-of-type {\n",
       "        vertical-align: middle;\n",
       "    }\n",
       "\n",
       "    .dataframe tbody tr th {\n",
       "        vertical-align: top;\n",
       "    }\n",
       "\n",
       "    .dataframe thead th {\n",
       "        text-align: right;\n",
       "    }\n",
       "</style>\n",
       "<table border=\"1\" class=\"dataframe\">\n",
       "  <thead>\n",
       "    <tr style=\"text-align: right;\">\n",
       "      <th></th>\n",
       "      <th>Unnamed: 0</th>\n",
       "      <th>airline</th>\n",
       "      <th>flight</th>\n",
       "      <th>source_city</th>\n",
       "      <th>departure_time</th>\n",
       "      <th>stops</th>\n",
       "      <th>arrival_time</th>\n",
       "      <th>destination_city</th>\n",
       "      <th>class</th>\n",
       "      <th>duration</th>\n",
       "      <th>days_left</th>\n",
       "      <th>price</th>\n",
       "    </tr>\n",
       "  </thead>\n",
       "  <tbody>\n",
       "    <tr>\n",
       "      <th>0</th>\n",
       "      <td>0</td>\n",
       "      <td>SpiceJet</td>\n",
       "      <td>SG-8709</td>\n",
       "      <td>Delhi</td>\n",
       "      <td>Evening</td>\n",
       "      <td>zero</td>\n",
       "      <td>Night</td>\n",
       "      <td>Mumbai</td>\n",
       "      <td>Economy</td>\n",
       "      <td>2.17</td>\n",
       "      <td>1</td>\n",
       "      <td>5953</td>\n",
       "    </tr>\n",
       "    <tr>\n",
       "      <th>1</th>\n",
       "      <td>1</td>\n",
       "      <td>SpiceJet</td>\n",
       "      <td>SG-8157</td>\n",
       "      <td>Delhi</td>\n",
       "      <td>Early_Morning</td>\n",
       "      <td>zero</td>\n",
       "      <td>Morning</td>\n",
       "      <td>Mumbai</td>\n",
       "      <td>Economy</td>\n",
       "      <td>2.33</td>\n",
       "      <td>1</td>\n",
       "      <td>5953</td>\n",
       "    </tr>\n",
       "    <tr>\n",
       "      <th>2</th>\n",
       "      <td>2</td>\n",
       "      <td>AirAsia</td>\n",
       "      <td>I5-764</td>\n",
       "      <td>Delhi</td>\n",
       "      <td>Early_Morning</td>\n",
       "      <td>zero</td>\n",
       "      <td>Early_Morning</td>\n",
       "      <td>Mumbai</td>\n",
       "      <td>Economy</td>\n",
       "      <td>2.17</td>\n",
       "      <td>1</td>\n",
       "      <td>5956</td>\n",
       "    </tr>\n",
       "    <tr>\n",
       "      <th>3</th>\n",
       "      <td>3</td>\n",
       "      <td>Vistara</td>\n",
       "      <td>UK-995</td>\n",
       "      <td>Delhi</td>\n",
       "      <td>Morning</td>\n",
       "      <td>zero</td>\n",
       "      <td>Afternoon</td>\n",
       "      <td>Mumbai</td>\n",
       "      <td>Economy</td>\n",
       "      <td>2.25</td>\n",
       "      <td>1</td>\n",
       "      <td>5955</td>\n",
       "    </tr>\n",
       "    <tr>\n",
       "      <th>4</th>\n",
       "      <td>4</td>\n",
       "      <td>Vistara</td>\n",
       "      <td>UK-963</td>\n",
       "      <td>Delhi</td>\n",
       "      <td>Morning</td>\n",
       "      <td>zero</td>\n",
       "      <td>Morning</td>\n",
       "      <td>Mumbai</td>\n",
       "      <td>Economy</td>\n",
       "      <td>2.33</td>\n",
       "      <td>1</td>\n",
       "      <td>5955</td>\n",
       "    </tr>\n",
       "  </tbody>\n",
       "</table>\n",
       "</div>"
      ],
      "text/plain": [
       "   Unnamed: 0   airline   flight source_city departure_time stops  \\\n",
       "0           0  SpiceJet  SG-8709       Delhi        Evening  zero   \n",
       "1           1  SpiceJet  SG-8157       Delhi  Early_Morning  zero   \n",
       "2           2   AirAsia   I5-764       Delhi  Early_Morning  zero   \n",
       "3           3   Vistara   UK-995       Delhi        Morning  zero   \n",
       "4           4   Vistara   UK-963       Delhi        Morning  zero   \n",
       "\n",
       "    arrival_time destination_city    class  duration  days_left  price  \n",
       "0          Night           Mumbai  Economy      2.17          1   5953  \n",
       "1        Morning           Mumbai  Economy      2.33          1   5953  \n",
       "2  Early_Morning           Mumbai  Economy      2.17          1   5956  \n",
       "3      Afternoon           Mumbai  Economy      2.25          1   5955  \n",
       "4        Morning           Mumbai  Economy      2.33          1   5955  "
      ]
     },
     "execution_count": 35,
     "metadata": {},
     "output_type": "execute_result"
    }
   ],
   "source": [
    "df.head()"
   ]
  },
  {
   "cell_type": "code",
   "execution_count": 55,
   "id": "8de081ea",
   "metadata": {},
   "outputs": [
    {
     "data": {
      "text/plain": [
       "<AxesSubplot:xlabel='departure_time', ylabel='price'>"
      ]
     },
     "execution_count": 55,
     "metadata": {},
     "output_type": "execute_result"
    },
    {
     "data": {
      "image/png": "[encoded data removed]",
      "text/plain": [
       "<Figure size 864x576 with 1 Axes>"
      ]
     },
     "metadata": {
      "needs_background": "light"
     },
     "output_type": "display_data"
    }
   ],
   "source": [
    "plt.figure(figsize=(12,8))\n",
    "sns.barplot(data=df, x=\"departure_time\", y=\"price\")"
   ]
  },
  {
   "cell_type": "code",
   "execution_count": 13,
   "id": "561dc01d",
   "metadata": {},
   "outputs": [
    {
     "data": {
      "text/plain": [
       "<AxesSubplot:xlabel='departure_time', ylabel='price'>"
      ]
     },
     "execution_count": 13,
     "metadata": {},
     "output_type": "execute_result"
    },
    {
     "data": {
      "image/png": "[encoded data removed]",
      "text/plain": [
       "<Figure size 864x720 with 1 Axes>"
      ]
     },
     "metadata": {
      "needs_background": "light"
     },
     "output_type": "display_data"
    }
   ],
   "source": [
    "plt.figure(figsize=(12,10))\n",
    "sns.boxplot(x='departure_time',y='price',data=df)"
   ]
  },
  {
   "cell_type": "code",
   "execution_count": 5,
   "id": "9a0a9464",
   "metadata": {
    "scrolled": false
   },
   "outputs": [
    {
     "data": {
      "text/plain": [
       "<AxesSubplot:xlabel='arrival_time', ylabel='price'>"
      ]
     },
     "execution_count": 5,
     "metadata": {},
     "output_type": "execute_result"
    },
    {
     "data": {
      "image/png": "[encoded data removed]",
      "text/plain": [
       "<Figure size 864x576 with 1 Axes>"
      ]
     },
     "metadata": {
      "needs_background": "light"
     },
     "output_type": "display_data"
    }
   ],
   "source": [
    "plt.figure(figsize=(12,8))\n",
    "sns.barplot(data=df, x=\"arrival_time\", y=\"price\")"
   ]
  },
  {
   "cell_type": "code",
   "execution_count": 14,
   "id": "232af0f4",
   "metadata": {},
   "outputs": [
    {
     "data": {
      "text/plain": [
       "<AxesSubplot:xlabel='arrival_time', ylabel='price'>"
      ]
     },
     "execution_count": 14,
     "metadata": {},
     "output_type": "execute_result"
    },
    {
     "data": {
      "image/png": "[encoded data removed]",
      "text/plain": [
       "<Figure size 864x720 with 1 Axes>"
      ]
     },
     "metadata": {
      "needs_background": "light"
     },
     "output_type": "display_data"
    }
   ],
   "source": [
    "plt.figure(figsize=(12,10))\n",
    "sns.boxplot(x='arrival_time',y='price',data=df)"
   ]
  },
  {
   "cell_type": "code",
   "execution_count": null,
   "id": "3edf94f0",
   "metadata": {},
   "outputs": [],
   "source": []
  },
  {
   "cell_type": "markdown",
   "id": "ad25746f",
   "metadata": {},
   "source": [
    "c) Does ticket price change based on the departure time and arrival time?\n",
    "The most noticeable difference in price comes from ticket flights with a departure in the late night, which we can guess that they would arrive in the late night or early morning, which are the 2 arrival times with the lowest price. "
   ]
  },
  {
   "cell_type": "code",
   "execution_count": 6,
   "id": "0929fbcc",
   "metadata": {},
   "outputs": [
    {
     "data": {
      "text/html": [
       "<div>\n",
       "<style scoped>\n",
       "    .dataframe tbody tr th:only-of-type {\n",
       "        vertical-align: middle;\n",
       "    }\n",
       "\n",
       "    .dataframe tbody tr th {\n",
       "        vertical-align: top;\n",
       "    }\n",
       "\n",
       "    .dataframe thead th {\n",
       "        text-align: right;\n",
       "    }\n",
       "</style>\n",
       "<table border=\"1\" class=\"dataframe\">\n",
       "  <thead>\n",
       "    <tr style=\"text-align: right;\">\n",
       "      <th></th>\n",
       "      <th>Unnamed: 0</th>\n",
       "      <th>airline</th>\n",
       "      <th>flight</th>\n",
       "      <th>source_city</th>\n",
       "      <th>departure_time</th>\n",
       "      <th>stops</th>\n",
       "      <th>arrival_time</th>\n",
       "      <th>destination_city</th>\n",
       "      <th>class</th>\n",
       "      <th>duration</th>\n",
       "      <th>days_left</th>\n",
       "      <th>price</th>\n",
       "    </tr>\n",
       "  </thead>\n",
       "  <tbody>\n",
       "    <tr>\n",
       "      <th>0</th>\n",
       "      <td>0</td>\n",
       "      <td>SpiceJet</td>\n",
       "      <td>SG-8709</td>\n",
       "      <td>Delhi</td>\n",
       "      <td>Evening</td>\n",
       "      <td>zero</td>\n",
       "      <td>Night</td>\n",
       "      <td>Mumbai</td>\n",
       "      <td>Economy</td>\n",
       "      <td>2.17</td>\n",
       "      <td>1</td>\n",
       "      <td>5953</td>\n",
       "    </tr>\n",
       "    <tr>\n",
       "      <th>1</th>\n",
       "      <td>1</td>\n",
       "      <td>SpiceJet</td>\n",
       "      <td>SG-8157</td>\n",
       "      <td>Delhi</td>\n",
       "      <td>Early_Morning</td>\n",
       "      <td>zero</td>\n",
       "      <td>Morning</td>\n",
       "      <td>Mumbai</td>\n",
       "      <td>Economy</td>\n",
       "      <td>2.33</td>\n",
       "      <td>1</td>\n",
       "      <td>5953</td>\n",
       "    </tr>\n",
       "    <tr>\n",
       "      <th>2</th>\n",
       "      <td>2</td>\n",
       "      <td>AirAsia</td>\n",
       "      <td>I5-764</td>\n",
       "      <td>Delhi</td>\n",
       "      <td>Early_Morning</td>\n",
       "      <td>zero</td>\n",
       "      <td>Early_Morning</td>\n",
       "      <td>Mumbai</td>\n",
       "      <td>Economy</td>\n",
       "      <td>2.17</td>\n",
       "      <td>1</td>\n",
       "      <td>5956</td>\n",
       "    </tr>\n",
       "    <tr>\n",
       "      <th>3</th>\n",
       "      <td>3</td>\n",
       "      <td>Vistara</td>\n",
       "      <td>UK-995</td>\n",
       "      <td>Delhi</td>\n",
       "      <td>Morning</td>\n",
       "      <td>zero</td>\n",
       "      <td>Afternoon</td>\n",
       "      <td>Mumbai</td>\n",
       "      <td>Economy</td>\n",
       "      <td>2.25</td>\n",
       "      <td>1</td>\n",
       "      <td>5955</td>\n",
       "    </tr>\n",
       "    <tr>\n",
       "      <th>4</th>\n",
       "      <td>4</td>\n",
       "      <td>Vistara</td>\n",
       "      <td>UK-963</td>\n",
       "      <td>Delhi</td>\n",
       "      <td>Morning</td>\n",
       "      <td>zero</td>\n",
       "      <td>Morning</td>\n",
       "      <td>Mumbai</td>\n",
       "      <td>Economy</td>\n",
       "      <td>2.33</td>\n",
       "      <td>1</td>\n",
       "      <td>5955</td>\n",
       "    </tr>\n",
       "    <tr>\n",
       "      <th>...</th>\n",
       "      <td>...</td>\n",
       "      <td>...</td>\n",
       "      <td>...</td>\n",
       "      <td>...</td>\n",
       "      <td>...</td>\n",
       "      <td>...</td>\n",
       "      <td>...</td>\n",
       "      <td>...</td>\n",
       "      <td>...</td>\n",
       "      <td>...</td>\n",
       "      <td>...</td>\n",
       "      <td>...</td>\n",
       "    </tr>\n",
       "    <tr>\n",
       "      <th>300148</th>\n",
       "      <td>300148</td>\n",
       "      <td>Vistara</td>\n",
       "      <td>UK-822</td>\n",
       "      <td>Chennai</td>\n",
       "      <td>Morning</td>\n",
       "      <td>one</td>\n",
       "      <td>Evening</td>\n",
       "      <td>Hyderabad</td>\n",
       "      <td>Business</td>\n",
       "      <td>10.08</td>\n",
       "      <td>49</td>\n",
       "      <td>69265</td>\n",
       "    </tr>\n",
       "    <tr>\n",
       "      <th>300149</th>\n",
       "      <td>300149</td>\n",
       "      <td>Vistara</td>\n",
       "      <td>UK-826</td>\n",
       "      <td>Chennai</td>\n",
       "      <td>Afternoon</td>\n",
       "      <td>one</td>\n",
       "      <td>Night</td>\n",
       "      <td>Hyderabad</td>\n",
       "      <td>Business</td>\n",
       "      <td>10.42</td>\n",
       "      <td>49</td>\n",
       "      <td>77105</td>\n",
       "    </tr>\n",
       "    <tr>\n",
       "      <th>300150</th>\n",
       "      <td>300150</td>\n",
       "      <td>Vistara</td>\n",
       "      <td>UK-832</td>\n",
       "      <td>Chennai</td>\n",
       "      <td>Early_Morning</td>\n",
       "      <td>one</td>\n",
       "      <td>Night</td>\n",
       "      <td>Hyderabad</td>\n",
       "      <td>Business</td>\n",
       "      <td>13.83</td>\n",
       "      <td>49</td>\n",
       "      <td>79099</td>\n",
       "    </tr>\n",
       "    <tr>\n",
       "      <th>300151</th>\n",
       "      <td>300151</td>\n",
       "      <td>Vistara</td>\n",
       "      <td>UK-828</td>\n",
       "      <td>Chennai</td>\n",
       "      <td>Early_Morning</td>\n",
       "      <td>one</td>\n",
       "      <td>Evening</td>\n",
       "      <td>Hyderabad</td>\n",
       "      <td>Business</td>\n",
       "      <td>10.00</td>\n",
       "      <td>49</td>\n",
       "      <td>81585</td>\n",
       "    </tr>\n",
       "    <tr>\n",
       "      <th>300152</th>\n",
       "      <td>300152</td>\n",
       "      <td>Vistara</td>\n",
       "      <td>UK-822</td>\n",
       "      <td>Chennai</td>\n",
       "      <td>Morning</td>\n",
       "      <td>one</td>\n",
       "      <td>Evening</td>\n",
       "      <td>Hyderabad</td>\n",
       "      <td>Business</td>\n",
       "      <td>10.08</td>\n",
       "      <td>49</td>\n",
       "      <td>81585</td>\n",
       "    </tr>\n",
       "  </tbody>\n",
       "</table>\n",
       "<p>300153 rows × 12 columns</p>\n",
       "</div>"
      ],
      "text/plain": [
       "        Unnamed: 0   airline   flight source_city departure_time stops  \\\n",
       "0                0  SpiceJet  SG-8709       Delhi        Evening  zero   \n",
       "1                1  SpiceJet  SG-8157       Delhi  Early_Morning  zero   \n",
       "2                2   AirAsia   I5-764       Delhi  Early_Morning  zero   \n",
       "3                3   Vistara   UK-995       Delhi        Morning  zero   \n",
       "4                4   Vistara   UK-963       Delhi        Morning  zero   \n",
       "...            ...       ...      ...         ...            ...   ...   \n",
       "300148      300148   Vistara   UK-822     Chennai        Morning   one   \n",
       "300149      300149   Vistara   UK-826     Chennai      Afternoon   one   \n",
       "300150      300150   Vistara   UK-832     Chennai  Early_Morning   one   \n",
       "300151      300151   Vistara   UK-828     Chennai  Early_Morning   one   \n",
       "300152      300152   Vistara   UK-822     Chennai        Morning   one   \n",
       "\n",
       "         arrival_time destination_city     class  duration  days_left  price  \n",
       "0               Night           Mumbai   Economy      2.17          1   5953  \n",
       "1             Morning           Mumbai   Economy      2.33          1   5953  \n",
       "2       Early_Morning           Mumbai   Economy      2.17          1   5956  \n",
       "3           Afternoon           Mumbai   Economy      2.25          1   5955  \n",
       "4             Morning           Mumbai   Economy      2.33          1   5955  \n",
       "...               ...              ...       ...       ...        ...    ...  \n",
       "300148        Evening        Hyderabad  Business     10.08         49  69265  \n",
       "300149          Night        Hyderabad  Business     10.42         49  77105  \n",
       "300150          Night        Hyderabad  Business     13.83         49  79099  \n",
       "300151        Evening        Hyderabad  Business     10.00         49  81585  \n",
       "300152        Evening        Hyderabad  Business     10.08         49  81585  \n",
       "\n",
       "[300153 rows x 12 columns]"
      ]
     },
     "execution_count": 6,
     "metadata": {},
     "output_type": "execute_result"
    }
   ],
   "source": [
    "df"
   ]
  },
  {
   "cell_type": "code",
   "execution_count": 11,
   "id": "807c4ea8",
   "metadata": {},
   "outputs": [
    {
     "data": {
      "text/plain": [
       "<AxesSubplot:xlabel='source_city', ylabel='price'>"
      ]
     },
     "execution_count": 11,
     "metadata": {},
     "output_type": "execute_result"
    },
    {
     "data": {
      "image/png": "[encoded data removed]",
      "text/plain": [
       "<Figure size 864x576 with 1 Axes>"
      ]
     },
     "metadata": {
      "needs_background": "light"
     },
     "output_type": "display_data"
    }
   ],
   "source": [
    "plt.figure(figsize=(12,8))\n",
    "sns.barplot(data=df, x=\"source_city\", y=\"price\")"
   ]
  },
  {
   "cell_type": "code",
   "execution_count": 17,
   "id": "8c92cfa9",
   "metadata": {},
   "outputs": [
    {
     "data": {
      "text/plain": [
       "<AxesSubplot:xlabel='source_city', ylabel='price'>"
      ]
     },
     "execution_count": 17,
     "metadata": {},
     "output_type": "execute_result"
    },
    {
     "data": {
      "image/png": "[encoded data removed]",
      "text/plain": [
       "<Figure size 864x720 with 1 Axes>"
      ]
     },
     "metadata": {
      "needs_background": "light"
     },
     "output_type": "display_data"
    }
   ],
   "source": [
    "plt.figure(figsize=(12,10))\n",
    "sns.boxplot(x='source_city',y='price',data=df)"
   ]
  },
  {
   "cell_type": "code",
   "execution_count": 12,
   "id": "5170e46c",
   "metadata": {},
   "outputs": [
    {
     "data": {
      "text/plain": [
       "<AxesSubplot:xlabel='destination_city', ylabel='price'>"
      ]
     },
     "execution_count": 12,
     "metadata": {},
     "output_type": "execute_result"
    },
    {
     "data": {
      "image/png": "[encoded data removed]",
      "text/plain": [
       "<Figure size 864x576 with 1 Axes>"
      ]
     },
     "metadata": {
      "needs_background": "light"
     },
     "output_type": "display_data"
    }
   ],
   "source": [
    "plt.figure(figsize=(12,8))\n",
    "sns.barplot(data=df, x=\"destination_city\", y=\"price\")"
   ]
  },
  {
   "cell_type": "code",
   "execution_count": 18,
   "id": "a34e4bab",
   "metadata": {},
   "outputs": [
    {
     "data": {
      "text/plain": [
       "<AxesSubplot:xlabel='destination_city', ylabel='price'>"
      ]
     },
     "execution_count": 18,
     "metadata": {},
     "output_type": "execute_result"
    },
    {
     "data": {
      "image/png": "[encoded data removed]",
      "text/plain": [
       "<Figure size 864x720 with 1 Axes>"
      ]
     },
     "metadata": {
      "needs_background": "light"
     },
     "output_type": "display_data"
    }
   ],
   "source": [
    "plt.figure(figsize=(12,10))\n",
    "sns.boxplot(x='destination_city',y='price',data=df)"
   ]
  },
  {
   "cell_type": "markdown",
   "id": "37026286",
   "metadata": {},
   "source": [
    "d) How the price changes with change in Source and Destination?\n",
    "It appears that Source and Destination cities don't have a significant effect on the price. Delhi seems to be the city with the lowest prices in both cases."
   ]
  },
  {
   "cell_type": "code",
   "execution_count": 19,
   "id": "a9ce2ce0",
   "metadata": {},
   "outputs": [
    {
     "data": {
      "text/plain": [
       "<AxesSubplot:xlabel='class', ylabel='price'>"
      ]
     },
     "execution_count": 19,
     "metadata": {},
     "output_type": "execute_result"
    },
    {
     "data": {
      "image/png": "[encoded data removed]",
      "text/plain": [
       "<Figure size 864x720 with 1 Axes>"
      ]
     },
     "metadata": {
      "needs_background": "light"
     },
     "output_type": "display_data"
    }
   ],
   "source": [
    "plt.figure(figsize=(12,10))\n",
    "sns.boxplot(x='class',y='price',data=df)"
   ]
  },
  {
   "cell_type": "code",
   "execution_count": 22,
   "id": "bb377578",
   "metadata": {},
   "outputs": [
    {
     "data": {
      "text/plain": [
       "<AxesSubplot:xlabel='price', ylabel='Count'>"
      ]
     },
     "execution_count": 22,
     "metadata": {},
     "output_type": "execute_result"
    },
    {
     "data": {
      "image/png": "[encoded data removed]",
      "text/plain": [
       "<Figure size 864x720 with 1 Axes>"
      ]
     },
     "metadata": {
      "needs_background": "light"
     },
     "output_type": "display_data"
    }
   ],
   "source": [
    "plt.figure(figsize=(12,10))\n",
    "sns.histplot(data=df,x='price',hue='class')"
   ]
  },
  {
   "cell_type": "markdown",
   "id": "14a53ebb",
   "metadata": {},
   "source": [
    "e) How does the ticket price vary between Economy and Business class?\n",
    "\n",
    "There is a big impact on the price value. Business class tickets are significantly more expensive"
   ]
  },
  {
   "cell_type": "code",
   "execution_count": 23,
   "id": "ff0c9257",
   "metadata": {},
   "outputs": [
    {
     "data": {
      "text/plain": [
       "Economy     206666\n",
       "Business     93487\n",
       "Name: class, dtype: int64"
      ]
     },
     "execution_count": 23,
     "metadata": {},
     "output_type": "execute_result"
    }
   ],
   "source": [
    "df['class'].value_counts()"
   ]
  },
  {
   "cell_type": "code",
   "execution_count": null,
   "id": "3168db5d",
   "metadata": {},
   "outputs": [],
   "source": []
  },
  {
   "cell_type": "code",
   "execution_count": null,
   "id": "40283dc8",
   "metadata": {},
   "outputs": [],
   "source": []
  },
  {
   "cell_type": "markdown",
   "id": "25e0ed05",
   "metadata": {},
   "source": [
    "PREDICTION MODEL"
   ]
  },
  {
   "cell_type": "code",
   "execution_count": null,
   "id": "3b137bd8",
   "metadata": {},
   "outputs": [],
   "source": []
  },
  {
   "cell_type": "code",
   "execution_count": 24,
   "id": "df7b2e82",
   "metadata": {},
   "outputs": [
    {
     "data": {
      "text/html": [
       "<div>\n",
       "<style scoped>\n",
       "    .dataframe tbody tr th:only-of-type {\n",
       "        vertical-align: middle;\n",
       "    }\n",
       "\n",
       "    .dataframe tbody tr th {\n",
       "        vertical-align: top;\n",
       "    }\n",
       "\n",
       "    .dataframe thead th {\n",
       "        text-align: right;\n",
       "    }\n",
       "</style>\n",
       "<table border=\"1\" class=\"dataframe\">\n",
       "  <thead>\n",
       "    <tr style=\"text-align: right;\">\n",
       "      <th></th>\n",
       "      <th>Unnamed: 0</th>\n",
       "      <th>airline</th>\n",
       "      <th>flight</th>\n",
       "      <th>source_city</th>\n",
       "      <th>departure_time</th>\n",
       "      <th>stops</th>\n",
       "      <th>arrival_time</th>\n",
       "      <th>destination_city</th>\n",
       "      <th>class</th>\n",
       "      <th>duration</th>\n",
       "      <th>days_left</th>\n",
       "      <th>price</th>\n",
       "    </tr>\n",
       "  </thead>\n",
       "  <tbody>\n",
       "    <tr>\n",
       "      <th>0</th>\n",
       "      <td>0</td>\n",
       "      <td>SpiceJet</td>\n",
       "      <td>SG-8709</td>\n",
       "      <td>Delhi</td>\n",
       "      <td>Evening</td>\n",
       "      <td>zero</td>\n",
       "      <td>Night</td>\n",
       "      <td>Mumbai</td>\n",
       "      <td>Economy</td>\n",
       "      <td>2.17</td>\n",
       "      <td>1</td>\n",
       "      <td>5953</td>\n",
       "    </tr>\n",
       "    <tr>\n",
       "      <th>1</th>\n",
       "      <td>1</td>\n",
       "      <td>SpiceJet</td>\n",
       "      <td>SG-8157</td>\n",
       "      <td>Delhi</td>\n",
       "      <td>Early_Morning</td>\n",
       "      <td>zero</td>\n",
       "      <td>Morning</td>\n",
       "      <td>Mumbai</td>\n",
       "      <td>Economy</td>\n",
       "      <td>2.33</td>\n",
       "      <td>1</td>\n",
       "      <td>5953</td>\n",
       "    </tr>\n",
       "    <tr>\n",
       "      <th>2</th>\n",
       "      <td>2</td>\n",
       "      <td>AirAsia</td>\n",
       "      <td>I5-764</td>\n",
       "      <td>Delhi</td>\n",
       "      <td>Early_Morning</td>\n",
       "      <td>zero</td>\n",
       "      <td>Early_Morning</td>\n",
       "      <td>Mumbai</td>\n",
       "      <td>Economy</td>\n",
       "      <td>2.17</td>\n",
       "      <td>1</td>\n",
       "      <td>5956</td>\n",
       "    </tr>\n",
       "    <tr>\n",
       "      <th>3</th>\n",
       "      <td>3</td>\n",
       "      <td>Vistara</td>\n",
       "      <td>UK-995</td>\n",
       "      <td>Delhi</td>\n",
       "      <td>Morning</td>\n",
       "      <td>zero</td>\n",
       "      <td>Afternoon</td>\n",
       "      <td>Mumbai</td>\n",
       "      <td>Economy</td>\n",
       "      <td>2.25</td>\n",
       "      <td>1</td>\n",
       "      <td>5955</td>\n",
       "    </tr>\n",
       "    <tr>\n",
       "      <th>4</th>\n",
       "      <td>4</td>\n",
       "      <td>Vistara</td>\n",
       "      <td>UK-963</td>\n",
       "      <td>Delhi</td>\n",
       "      <td>Morning</td>\n",
       "      <td>zero</td>\n",
       "      <td>Morning</td>\n",
       "      <td>Mumbai</td>\n",
       "      <td>Economy</td>\n",
       "      <td>2.33</td>\n",
       "      <td>1</td>\n",
       "      <td>5955</td>\n",
       "    </tr>\n",
       "  </tbody>\n",
       "</table>\n",
       "</div>"
      ],
      "text/plain": [
       "   Unnamed: 0   airline   flight source_city departure_time stops  \\\n",
       "0           0  SpiceJet  SG-8709       Delhi        Evening  zero   \n",
       "1           1  SpiceJet  SG-8157       Delhi  Early_Morning  zero   \n",
       "2           2   AirAsia   I5-764       Delhi  Early_Morning  zero   \n",
       "3           3   Vistara   UK-995       Delhi        Morning  zero   \n",
       "4           4   Vistara   UK-963       Delhi        Morning  zero   \n",
       "\n",
       "    arrival_time destination_city    class  duration  days_left  price  \n",
       "0          Night           Mumbai  Economy      2.17          1   5953  \n",
       "1        Morning           Mumbai  Economy      2.33          1   5953  \n",
       "2  Early_Morning           Mumbai  Economy      2.17          1   5956  \n",
       "3      Afternoon           Mumbai  Economy      2.25          1   5955  \n",
       "4        Morning           Mumbai  Economy      2.33          1   5955  "
      ]
     },
     "execution_count": 24,
     "metadata": {},
     "output_type": "execute_result"
    }
   ],
   "source": [
    "df.head()"
   ]
  },
  {
   "cell_type": "code",
   "execution_count": 37,
   "id": "24cf0365",
   "metadata": {},
   "outputs": [
    {
     "data": {
      "text/plain": [
       "1561"
      ]
     },
     "execution_count": 37,
     "metadata": {},
     "output_type": "execute_result"
    }
   ],
   "source": [
    "df['flight'].nunique()"
   ]
  },
  {
   "cell_type": "markdown",
   "id": "4681cfaa",
   "metadata": {},
   "source": [
    "The flight feature has too many unique values to include every category in our model. "
   ]
  },
  {
   "cell_type": "code",
   "execution_count": 38,
   "id": "2b07bfc4",
   "metadata": {},
   "outputs": [],
   "source": [
    "df=df.drop('flight',axis=1)"
   ]
  },
  {
   "cell_type": "code",
   "execution_count": 41,
   "id": "9bb9bb50",
   "metadata": {},
   "outputs": [
    {
     "data": {
      "text/html": [
       "<div>\n",
       "<style scoped>\n",
       "    .dataframe tbody tr th:only-of-type {\n",
       "        vertical-align: middle;\n",
       "    }\n",
       "\n",
       "    .dataframe tbody tr th {\n",
       "        vertical-align: top;\n",
       "    }\n",
       "\n",
       "    .dataframe thead th {\n",
       "        text-align: right;\n",
       "    }\n",
       "</style>\n",
       "<table border=\"1\" class=\"dataframe\">\n",
       "  <thead>\n",
       "    <tr style=\"text-align: right;\">\n",
       "      <th></th>\n",
       "      <th>airline</th>\n",
       "      <th>source_city</th>\n",
       "      <th>departure_time</th>\n",
       "      <th>stops</th>\n",
       "      <th>arrival_time</th>\n",
       "      <th>destination_city</th>\n",
       "      <th>class</th>\n",
       "      <th>duration</th>\n",
       "      <th>days_left</th>\n",
       "      <th>price</th>\n",
       "    </tr>\n",
       "  </thead>\n",
       "  <tbody>\n",
       "    <tr>\n",
       "      <th>0</th>\n",
       "      <td>SpiceJet</td>\n",
       "      <td>Delhi</td>\n",
       "      <td>Evening</td>\n",
       "      <td>zero</td>\n",
       "      <td>Night</td>\n",
       "      <td>Mumbai</td>\n",
       "      <td>Economy</td>\n",
       "      <td>2.17</td>\n",
       "      <td>1</td>\n",
       "      <td>5953</td>\n",
       "    </tr>\n",
       "    <tr>\n",
       "      <th>1</th>\n",
       "      <td>SpiceJet</td>\n",
       "      <td>Delhi</td>\n",
       "      <td>Early_Morning</td>\n",
       "      <td>zero</td>\n",
       "      <td>Morning</td>\n",
       "      <td>Mumbai</td>\n",
       "      <td>Economy</td>\n",
       "      <td>2.33</td>\n",
       "      <td>1</td>\n",
       "      <td>5953</td>\n",
       "    </tr>\n",
       "    <tr>\n",
       "      <th>2</th>\n",
       "      <td>AirAsia</td>\n",
       "      <td>Delhi</td>\n",
       "      <td>Early_Morning</td>\n",
       "      <td>zero</td>\n",
       "      <td>Early_Morning</td>\n",
       "      <td>Mumbai</td>\n",
       "      <td>Economy</td>\n",
       "      <td>2.17</td>\n",
       "      <td>1</td>\n",
       "      <td>5956</td>\n",
       "    </tr>\n",
       "    <tr>\n",
       "      <th>3</th>\n",
       "      <td>Vistara</td>\n",
       "      <td>Delhi</td>\n",
       "      <td>Morning</td>\n",
       "      <td>zero</td>\n",
       "      <td>Afternoon</td>\n",
       "      <td>Mumbai</td>\n",
       "      <td>Economy</td>\n",
       "      <td>2.25</td>\n",
       "      <td>1</td>\n",
       "      <td>5955</td>\n",
       "    </tr>\n",
       "    <tr>\n",
       "      <th>4</th>\n",
       "      <td>Vistara</td>\n",
       "      <td>Delhi</td>\n",
       "      <td>Morning</td>\n",
       "      <td>zero</td>\n",
       "      <td>Morning</td>\n",
       "      <td>Mumbai</td>\n",
       "      <td>Economy</td>\n",
       "      <td>2.33</td>\n",
       "      <td>1</td>\n",
       "      <td>5955</td>\n",
       "    </tr>\n",
       "  </tbody>\n",
       "</table>\n",
       "</div>"
      ],
      "text/plain": [
       "    airline source_city departure_time stops   arrival_time destination_city  \\\n",
       "0  SpiceJet       Delhi        Evening  zero          Night           Mumbai   \n",
       "1  SpiceJet       Delhi  Early_Morning  zero        Morning           Mumbai   \n",
       "2   AirAsia       Delhi  Early_Morning  zero  Early_Morning           Mumbai   \n",
       "3   Vistara       Delhi        Morning  zero      Afternoon           Mumbai   \n",
       "4   Vistara       Delhi        Morning  zero        Morning           Mumbai   \n",
       "\n",
       "     class  duration  days_left  price  \n",
       "0  Economy      2.17          1   5953  \n",
       "1  Economy      2.33          1   5953  \n",
       "2  Economy      2.17          1   5956  \n",
       "3  Economy      2.25          1   5955  \n",
       "4  Economy      2.33          1   5955  "
      ]
     },
     "execution_count": 41,
     "metadata": {},
     "output_type": "execute_result"
    }
   ],
   "source": [
    "df.head()"
   ]
  },
  {
   "cell_type": "code",
   "execution_count": 40,
   "id": "d32e33fb",
   "metadata": {},
   "outputs": [],
   "source": [
    "df=df.drop('Unnamed: 0',axis=1)"
   ]
  },
  {
   "cell_type": "markdown",
   "id": "aee8442a",
   "metadata": {},
   "source": [
    "Now we will create dummy variables dor our categorical features with string variables."
   ]
  },
  {
   "cell_type": "code",
   "execution_count": 42,
   "id": "78be3f66",
   "metadata": {},
   "outputs": [
    {
     "data": {
      "text/plain": [
       "Index(['airline', 'source_city', 'departure_time', 'stops', 'arrival_time',\n",
       "       'destination_city', 'class', 'duration', 'days_left', 'price'],\n",
       "      dtype='object')"
      ]
     },
     "execution_count": 42,
     "metadata": {},
     "output_type": "execute_result"
    }
   ],
   "source": [
    "df.columns"
   ]
  },
  {
   "cell_type": "code",
   "execution_count": 43,
   "id": "7f0d4c6b",
   "metadata": {},
   "outputs": [],
   "source": [
    "dummies = pd.get_dummies(df[['airline', 'source_city', 'departure_time', 'stops', 'arrival_time',\n",
    "       'destination_city', 'class']],drop_first=True)\n",
    "df = df.drop(['airline', 'source_city', 'departure_time', 'stops', 'arrival_time',\n",
    "       'destination_city', 'class'],axis=1)\n",
    "df = pd.concat([df,dummies],axis=1)"
   ]
  },
  {
   "cell_type": "code",
   "execution_count": 45,
   "id": "43a8ac00",
   "metadata": {},
   "outputs": [
    {
     "data": {
      "text/html": [
       "<div>\n",
       "<style scoped>\n",
       "    .dataframe tbody tr th:only-of-type {\n",
       "        vertical-align: middle;\n",
       "    }\n",
       "\n",
       "    .dataframe tbody tr th {\n",
       "        vertical-align: top;\n",
       "    }\n",
       "\n",
       "    .dataframe thead th {\n",
       "        text-align: right;\n",
       "    }\n",
       "</style>\n",
       "<table border=\"1\" class=\"dataframe\">\n",
       "  <thead>\n",
       "    <tr style=\"text-align: right;\">\n",
       "      <th></th>\n",
       "      <th>duration</th>\n",
       "      <th>days_left</th>\n",
       "      <th>price</th>\n",
       "      <th>airline_Air_India</th>\n",
       "      <th>airline_GO_FIRST</th>\n",
       "      <th>airline_Indigo</th>\n",
       "      <th>airline_SpiceJet</th>\n",
       "      <th>airline_Vistara</th>\n",
       "      <th>source_city_Chennai</th>\n",
       "      <th>source_city_Delhi</th>\n",
       "      <th>...</th>\n",
       "      <th>arrival_time_Evening</th>\n",
       "      <th>arrival_time_Late_Night</th>\n",
       "      <th>arrival_time_Morning</th>\n",
       "      <th>arrival_time_Night</th>\n",
       "      <th>destination_city_Chennai</th>\n",
       "      <th>destination_city_Delhi</th>\n",
       "      <th>destination_city_Hyderabad</th>\n",
       "      <th>destination_city_Kolkata</th>\n",
       "      <th>destination_city_Mumbai</th>\n",
       "      <th>class_Economy</th>\n",
       "    </tr>\n",
       "  </thead>\n",
       "  <tbody>\n",
       "    <tr>\n",
       "      <th>0</th>\n",
       "      <td>2.17</td>\n",
       "      <td>1</td>\n",
       "      <td>5953</td>\n",
       "      <td>0</td>\n",
       "      <td>0</td>\n",
       "      <td>0</td>\n",
       "      <td>1</td>\n",
       "      <td>0</td>\n",
       "      <td>0</td>\n",
       "      <td>1</td>\n",
       "      <td>...</td>\n",
       "      <td>0</td>\n",
       "      <td>0</td>\n",
       "      <td>0</td>\n",
       "      <td>1</td>\n",
       "      <td>0</td>\n",
       "      <td>0</td>\n",
       "      <td>0</td>\n",
       "      <td>0</td>\n",
       "      <td>1</td>\n",
       "      <td>1</td>\n",
       "    </tr>\n",
       "    <tr>\n",
       "      <th>1</th>\n",
       "      <td>2.33</td>\n",
       "      <td>1</td>\n",
       "      <td>5953</td>\n",
       "      <td>0</td>\n",
       "      <td>0</td>\n",
       "      <td>0</td>\n",
       "      <td>1</td>\n",
       "      <td>0</td>\n",
       "      <td>0</td>\n",
       "      <td>1</td>\n",
       "      <td>...</td>\n",
       "      <td>0</td>\n",
       "      <td>0</td>\n",
       "      <td>1</td>\n",
       "      <td>0</td>\n",
       "      <td>0</td>\n",
       "      <td>0</td>\n",
       "      <td>0</td>\n",
       "      <td>0</td>\n",
       "      <td>1</td>\n",
       "      <td>1</td>\n",
       "    </tr>\n",
       "    <tr>\n",
       "      <th>2</th>\n",
       "      <td>2.17</td>\n",
       "      <td>1</td>\n",
       "      <td>5956</td>\n",
       "      <td>0</td>\n",
       "      <td>0</td>\n",
       "      <td>0</td>\n",
       "      <td>0</td>\n",
       "      <td>0</td>\n",
       "      <td>0</td>\n",
       "      <td>1</td>\n",
       "      <td>...</td>\n",
       "      <td>0</td>\n",
       "      <td>0</td>\n",
       "      <td>0</td>\n",
       "      <td>0</td>\n",
       "      <td>0</td>\n",
       "      <td>0</td>\n",
       "      <td>0</td>\n",
       "      <td>0</td>\n",
       "      <td>1</td>\n",
       "      <td>1</td>\n",
       "    </tr>\n",
       "    <tr>\n",
       "      <th>3</th>\n",
       "      <td>2.25</td>\n",
       "      <td>1</td>\n",
       "      <td>5955</td>\n",
       "      <td>0</td>\n",
       "      <td>0</td>\n",
       "      <td>0</td>\n",
       "      <td>0</td>\n",
       "      <td>1</td>\n",
       "      <td>0</td>\n",
       "      <td>1</td>\n",
       "      <td>...</td>\n",
       "      <td>0</td>\n",
       "      <td>0</td>\n",
       "      <td>0</td>\n",
       "      <td>0</td>\n",
       "      <td>0</td>\n",
       "      <td>0</td>\n",
       "      <td>0</td>\n",
       "      <td>0</td>\n",
       "      <td>1</td>\n",
       "      <td>1</td>\n",
       "    </tr>\n",
       "    <tr>\n",
       "      <th>4</th>\n",
       "      <td>2.33</td>\n",
       "      <td>1</td>\n",
       "      <td>5955</td>\n",
       "      <td>0</td>\n",
       "      <td>0</td>\n",
       "      <td>0</td>\n",
       "      <td>0</td>\n",
       "      <td>1</td>\n",
       "      <td>0</td>\n",
       "      <td>1</td>\n",
       "      <td>...</td>\n",
       "      <td>0</td>\n",
       "      <td>0</td>\n",
       "      <td>1</td>\n",
       "      <td>0</td>\n",
       "      <td>0</td>\n",
       "      <td>0</td>\n",
       "      <td>0</td>\n",
       "      <td>0</td>\n",
       "      <td>1</td>\n",
       "      <td>1</td>\n",
       "    </tr>\n",
       "    <tr>\n",
       "      <th>...</th>\n",
       "      <td>...</td>\n",
       "      <td>...</td>\n",
       "      <td>...</td>\n",
       "      <td>...</td>\n",
       "      <td>...</td>\n",
       "      <td>...</td>\n",
       "      <td>...</td>\n",
       "      <td>...</td>\n",
       "      <td>...</td>\n",
       "      <td>...</td>\n",
       "      <td>...</td>\n",
       "      <td>...</td>\n",
       "      <td>...</td>\n",
       "      <td>...</td>\n",
       "      <td>...</td>\n",
       "      <td>...</td>\n",
       "      <td>...</td>\n",
       "      <td>...</td>\n",
       "      <td>...</td>\n",
       "      <td>...</td>\n",
       "      <td>...</td>\n",
       "    </tr>\n",
       "    <tr>\n",
       "      <th>300148</th>\n",
       "      <td>10.08</td>\n",
       "      <td>49</td>\n",
       "      <td>69265</td>\n",
       "      <td>0</td>\n",
       "      <td>0</td>\n",
       "      <td>0</td>\n",
       "      <td>0</td>\n",
       "      <td>1</td>\n",
       "      <td>1</td>\n",
       "      <td>0</td>\n",
       "      <td>...</td>\n",
       "      <td>1</td>\n",
       "      <td>0</td>\n",
       "      <td>0</td>\n",
       "      <td>0</td>\n",
       "      <td>0</td>\n",
       "      <td>0</td>\n",
       "      <td>1</td>\n",
       "      <td>0</td>\n",
       "      <td>0</td>\n",
       "      <td>0</td>\n",
       "    </tr>\n",
       "    <tr>\n",
       "      <th>300149</th>\n",
       "      <td>10.42</td>\n",
       "      <td>49</td>\n",
       "      <td>77105</td>\n",
       "      <td>0</td>\n",
       "      <td>0</td>\n",
       "      <td>0</td>\n",
       "      <td>0</td>\n",
       "      <td>1</td>\n",
       "      <td>1</td>\n",
       "      <td>0</td>\n",
       "      <td>...</td>\n",
       "      <td>0</td>\n",
       "      <td>0</td>\n",
       "      <td>0</td>\n",
       "      <td>1</td>\n",
       "      <td>0</td>\n",
       "      <td>0</td>\n",
       "      <td>1</td>\n",
       "      <td>0</td>\n",
       "      <td>0</td>\n",
       "      <td>0</td>\n",
       "    </tr>\n",
       "    <tr>\n",
       "      <th>300150</th>\n",
       "      <td>13.83</td>\n",
       "      <td>49</td>\n",
       "      <td>79099</td>\n",
       "      <td>0</td>\n",
       "      <td>0</td>\n",
       "      <td>0</td>\n",
       "      <td>0</td>\n",
       "      <td>1</td>\n",
       "      <td>1</td>\n",
       "      <td>0</td>\n",
       "      <td>...</td>\n",
       "      <td>0</td>\n",
       "      <td>0</td>\n",
       "      <td>0</td>\n",
       "      <td>1</td>\n",
       "      <td>0</td>\n",
       "      <td>0</td>\n",
       "      <td>1</td>\n",
       "      <td>0</td>\n",
       "      <td>0</td>\n",
       "      <td>0</td>\n",
       "    </tr>\n",
       "    <tr>\n",
       "      <th>300151</th>\n",
       "      <td>10.00</td>\n",
       "      <td>49</td>\n",
       "      <td>81585</td>\n",
       "      <td>0</td>\n",
       "      <td>0</td>\n",
       "      <td>0</td>\n",
       "      <td>0</td>\n",
       "      <td>1</td>\n",
       "      <td>1</td>\n",
       "      <td>0</td>\n",
       "      <td>...</td>\n",
       "      <td>1</td>\n",
       "      <td>0</td>\n",
       "      <td>0</td>\n",
       "      <td>0</td>\n",
       "      <td>0</td>\n",
       "      <td>0</td>\n",
       "      <td>1</td>\n",
       "      <td>0</td>\n",
       "      <td>0</td>\n",
       "      <td>0</td>\n",
       "    </tr>\n",
       "    <tr>\n",
       "      <th>300152</th>\n",
       "      <td>10.08</td>\n",
       "      <td>49</td>\n",
       "      <td>81585</td>\n",
       "      <td>0</td>\n",
       "      <td>0</td>\n",
       "      <td>0</td>\n",
       "      <td>0</td>\n",
       "      <td>1</td>\n",
       "      <td>1</td>\n",
       "      <td>0</td>\n",
       "      <td>...</td>\n",
       "      <td>1</td>\n",
       "      <td>0</td>\n",
       "      <td>0</td>\n",
       "      <td>0</td>\n",
       "      <td>0</td>\n",
       "      <td>0</td>\n",
       "      <td>1</td>\n",
       "      <td>0</td>\n",
       "      <td>0</td>\n",
       "      <td>0</td>\n",
       "    </tr>\n",
       "  </tbody>\n",
       "</table>\n",
       "<p>300153 rows × 31 columns</p>\n",
       "</div>"
      ],
      "text/plain": [
       "        duration  days_left  price  airline_Air_India  airline_GO_FIRST  \\\n",
       "0           2.17          1   5953                  0                 0   \n",
       "1           2.33          1   5953                  0                 0   \n",
       "2           2.17          1   5956                  0                 0   \n",
       "3           2.25          1   5955                  0                 0   \n",
       "4           2.33          1   5955                  0                 0   \n",
       "...          ...        ...    ...                ...               ...   \n",
       "300148     10.08         49  69265                  0                 0   \n",
       "300149     10.42         49  77105                  0                 0   \n",
       "300150     13.83         49  79099                  0                 0   \n",
       "300151     10.00         49  81585                  0                 0   \n",
       "300152     10.08         49  81585                  0                 0   \n",
       "\n",
       "        airline_Indigo  airline_SpiceJet  airline_Vistara  \\\n",
       "0                    0                 1                0   \n",
       "1                    0                 1                0   \n",
       "2                    0                 0                0   \n",
       "3                    0                 0                1   \n",
       "4                    0                 0                1   \n",
       "...                ...               ...              ...   \n",
       "300148               0                 0                1   \n",
       "300149               0                 0                1   \n",
       "300150               0                 0                1   \n",
       "300151               0                 0                1   \n",
       "300152               0                 0                1   \n",
       "\n",
       "        source_city_Chennai  source_city_Delhi  ...  arrival_time_Evening  \\\n",
       "0                         0                  1  ...                     0   \n",
       "1                         0                  1  ...                     0   \n",
       "2                         0                  1  ...                     0   \n",
       "3                         0                  1  ...                     0   \n",
       "4                         0                  1  ...                     0   \n",
       "...                     ...                ...  ...                   ...   \n",
       "300148                    1                  0  ...                     1   \n",
       "300149                    1                  0  ...                     0   \n",
       "300150                    1                  0  ...                     0   \n",
       "300151                    1                  0  ...                     1   \n",
       "300152                    1                  0  ...                     1   \n",
       "\n",
       "        arrival_time_Late_Night  arrival_time_Morning  arrival_time_Night  \\\n",
       "0                             0                     0                   1   \n",
       "1                             0                     1                   0   \n",
       "2                             0                     0                   0   \n",
       "3                             0                     0                   0   \n",
       "4                             0                     1                   0   \n",
       "...                         ...                   ...                 ...   \n",
       "300148                        0                     0                   0   \n",
       "300149                        0                     0                   1   \n",
       "300150                        0                     0                   1   \n",
       "300151                        0                     0                   0   \n",
       "300152                        0                     0                   0   \n",
       "\n",
       "        destination_city_Chennai  destination_city_Delhi  \\\n",
       "0                              0                       0   \n",
       "1                              0                       0   \n",
       "2                              0                       0   \n",
       "3                              0                       0   \n",
       "4                              0                       0   \n",
       "...                          ...                     ...   \n",
       "300148                         0                       0   \n",
       "300149                         0                       0   \n",
       "300150                         0                       0   \n",
       "300151                         0                       0   \n",
       "300152                         0                       0   \n",
       "\n",
       "        destination_city_Hyderabad  destination_city_Kolkata  \\\n",
       "0                                0                         0   \n",
       "1                                0                         0   \n",
       "2                                0                         0   \n",
       "3                                0                         0   \n",
       "4                                0                         0   \n",
       "...                            ...                       ...   \n",
       "300148                           1                         0   \n",
       "300149                           1                         0   \n",
       "300150                           1                         0   \n",
       "300151                           1                         0   \n",
       "300152                           1                         0   \n",
       "\n",
       "        destination_city_Mumbai  class_Economy  \n",
       "0                             1              1  \n",
       "1                             1              1  \n",
       "2                             1              1  \n",
       "3                             1              1  \n",
       "4                             1              1  \n",
       "...                         ...            ...  \n",
       "300148                        0              0  \n",
       "300149                        0              0  \n",
       "300150                        0              0  \n",
       "300151                        0              0  \n",
       "300152                        0              0  \n",
       "\n",
       "[300153 rows x 31 columns]"
      ]
     },
     "execution_count": 45,
     "metadata": {},
     "output_type": "execute_result"
    }
   ],
   "source": [
    "df"
   ]
  },
  {
   "cell_type": "code",
   "execution_count": 46,
   "id": "809dc463",
   "metadata": {},
   "outputs": [],
   "source": [
    "X = df.drop('price',axis=1)\n",
    "y = df['price']"
   ]
  },
  {
   "cell_type": "code",
   "execution_count": 47,
   "id": "7221df6c",
   "metadata": {},
   "outputs": [],
   "source": [
    "from sklearn.model_selection import train_test_split"
   ]
  },
  {
   "cell_type": "code",
   "execution_count": 48,
   "id": "dec9a5b2",
   "metadata": {},
   "outputs": [],
   "source": [
    "X_train, X_test, y_train, y_test = train_test_split(X,y,test_size=0.3,random_state=42)"
   ]
  },
  {
   "cell_type": "code",
   "execution_count": 49,
   "id": "7da8080a",
   "metadata": {},
   "outputs": [],
   "source": [
    "from sklearn.preprocessing import MinMaxScaler"
   ]
  },
  {
   "cell_type": "code",
   "execution_count": 50,
   "id": "c33de4f5",
   "metadata": {},
   "outputs": [],
   "source": [
    "scaler = MinMaxScaler()"
   ]
  },
  {
   "cell_type": "code",
   "execution_count": 51,
   "id": "85833851",
   "metadata": {},
   "outputs": [],
   "source": [
    "X_train= scaler.fit_transform(X_train)"
   ]
  },
  {
   "cell_type": "code",
   "execution_count": 52,
   "id": "babefddd",
   "metadata": {},
   "outputs": [],
   "source": [
    "X_test = scaler.transform(X_test)"
   ]
  },
  {
   "cell_type": "code",
   "execution_count": 56,
   "id": "6d83d4e3",
   "metadata": {},
   "outputs": [
    {
     "data": {
      "text/plain": [
       "(90046, 30)"
      ]
     },
     "execution_count": 56,
     "metadata": {},
     "output_type": "execute_result"
    }
   ],
   "source": [
    "X_test.shape"
   ]
  },
  {
   "cell_type": "code",
   "execution_count": 57,
   "id": "cfda4691",
   "metadata": {},
   "outputs": [
    {
     "data": {
      "text/plain": [
       "(210107, 30)"
      ]
     },
     "execution_count": 57,
     "metadata": {},
     "output_type": "execute_result"
    }
   ],
   "source": [
    "X_train.shape"
   ]
  },
  {
   "cell_type": "code",
   "execution_count": 60,
   "id": "d54caa6f",
   "metadata": {},
   "outputs": [],
   "source": [
    "from tensorflow.keras.models import Sequential\n",
    "from tensorflow.keras.layers import Dense, Activation, Dropout\n",
    "from tensorflow.keras.optimizers import Adam"
   ]
  },
  {
   "cell_type": "code",
   "execution_count": 69,
   "id": "03067944",
   "metadata": {},
   "outputs": [],
   "source": [
    "model = Sequential()\n",
    "\n",
    "model.add(Dense(30,activation='relu'))\n",
    "model.add(Dropout(0.2))\n",
    "\n",
    "model.add(Dense(15,activation='relu'))\n",
    "model.add(Dropout(0.2))\n",
    "\n",
    "model.add(Dense(8,activation='relu'))\n",
    "model.add(Dropout(0.2))\n",
    "\n",
    "model.add(Dense(4,activation='relu'))\n",
    "model.add(Dropout(0.2))\n",
    "\n",
    "model.add(Dense(1))\n",
    "\n",
    "model.compile(optimizer='adam',loss='mse')"
   ]
  },
  {
   "cell_type": "code",
   "execution_count": 70,
   "id": "420f846d",
   "metadata": {
    "scrolled": true
   },
   "outputs": [
    {
     "name": "stdout",
     "output_type": "stream",
     "text": [
      "Epoch 1/400\n",
      "1617/1617 [==============================] - 2s 1ms/step - loss: 555375872.0000 - val_loss: 141979696.0000\n",
      "Epoch 2/400\n",
      "1617/1617 [==============================] - 2s 1ms/step - loss: 172617360.0000 - val_loss: 52896460.0000\n",
      "Epoch 3/400\n",
      "1617/1617 [==============================] - 2s 1ms/step - loss: 159878784.0000 - val_loss: 46913248.0000\n",
      "Epoch 4/400\n",
      "1617/1617 [==============================] - 2s 1ms/step - loss: 158656560.0000 - val_loss: 47948476.0000\n",
      "Epoch 5/400\n",
      "1617/1617 [==============================] - 2s 1ms/step - loss: 157433344.0000 - val_loss: 42270636.0000\n",
      "Epoch 6/400\n",
      "1617/1617 [==============================] - 2s 1ms/step - loss: 153594224.0000 - val_loss: 38925484.0000\n",
      "Epoch 7/400\n",
      "1617/1617 [==============================] - 2s 1ms/step - loss: 153362816.0000 - val_loss: 50312904.0000\n",
      "Epoch 8/400\n",
      "1617/1617 [==============================] - 2s 1ms/step - loss: 155049104.0000 - val_loss: 43664476.0000\n",
      "Epoch 9/400\n",
      "1617/1617 [==============================] - 2s 1ms/step - loss: 151890528.0000 - val_loss: 41728452.0000\n",
      "Epoch 10/400\n",
      "1617/1617 [==============================] - 2s 1ms/step - loss: 151373504.0000 - val_loss: 47266664.0000\n",
      "Epoch 11/400\n",
      "1617/1617 [==============================] - 2s 1ms/step - loss: 150698752.0000 - val_loss: 45144700.0000\n",
      "Epoch 12/400\n",
      "1617/1617 [==============================] - 2s 1ms/step - loss: 148920688.0000 - val_loss: 37547284.0000\n",
      "Epoch 13/400\n",
      "1617/1617 [==============================] - 2s 1ms/step - loss: 149180416.0000 - val_loss: 47920328.0000\n",
      "Epoch 14/400\n",
      "1617/1617 [==============================] - 2s 1ms/step - loss: 147758528.0000 - val_loss: 38123368.0000\n",
      "Epoch 15/400\n",
      "1617/1617 [==============================] - 2s 1ms/step - loss: 147984336.0000 - val_loss: 39275756.0000\n",
      "Epoch 16/400\n",
      "1617/1617 [==============================] - 2s 1ms/step - loss: 147791984.0000 - val_loss: 43225476.0000\n",
      "Epoch 17/400\n",
      "1617/1617 [==============================] - 2s 1ms/step - loss: 147959168.0000 - val_loss: 43725584.0000\n",
      "Epoch 18/400\n",
      "1617/1617 [==============================] - 2s 1ms/step - loss: 147801888.0000 - val_loss: 45787540.0000\n",
      "Epoch 19/400\n",
      "1617/1617 [==============================] - 2s 1ms/step - loss: 147861840.0000 - val_loss: 37480812.0000\n",
      "Epoch 20/400\n",
      "1617/1617 [==============================] - 2s 1ms/step - loss: 147245328.0000 - val_loss: 41745440.0000\n",
      "Epoch 21/400\n",
      "1617/1617 [==============================] - 2s 1ms/step - loss: 147186720.0000 - val_loss: 42905264.0000\n",
      "Epoch 22/400\n",
      "1617/1617 [==============================] - 2s 1ms/step - loss: 146789536.0000 - val_loss: 42033272.0000\n",
      "Epoch 23/400\n",
      "1617/1617 [==============================] - 2s 1ms/step - loss: 146163952.0000 - val_loss: 43077616.0000\n",
      "Epoch 24/400\n",
      "1617/1617 [==============================] - 2s 1ms/step - loss: 146754016.0000 - val_loss: 42979224.0000\n",
      "Epoch 25/400\n",
      "1617/1617 [==============================] - 2s 1ms/step - loss: 146267728.0000 - val_loss: 38500464.0000\n",
      "Epoch 26/400\n",
      "1617/1617 [==============================] - 2s 1ms/step - loss: 146802848.0000 - val_loss: 41112212.0000\n",
      "Epoch 27/400\n",
      "1617/1617 [==============================] - 2s 1ms/step - loss: 145883872.0000 - val_loss: 47168068.0000\n",
      "Epoch 28/400\n",
      "1617/1617 [==============================] - 2s 1ms/step - loss: 146079280.0000 - val_loss: 41014236.0000\n",
      "Epoch 29/400\n",
      "1617/1617 [==============================] - 2s 1ms/step - loss: 147093168.0000 - val_loss: 41372172.0000\n",
      "Epoch 30/400\n",
      "1617/1617 [==============================] - 2s 1ms/step - loss: 146200656.0000 - val_loss: 37954212.0000\n",
      "Epoch 31/400\n",
      "1617/1617 [==============================] - 2s 1ms/step - loss: 145129248.0000 - val_loss: 38256564.0000\n",
      "Epoch 32/400\n",
      "1617/1617 [==============================] - 2s 1ms/step - loss: 143994368.0000 - val_loss: 44695884.0000\n",
      "Epoch 33/400\n",
      "1617/1617 [==============================] - 2s 1ms/step - loss: 146589488.0000 - val_loss: 38585108.0000\n",
      "Epoch 34/400\n",
      "1617/1617 [==============================] - 2s 1ms/step - loss: 146026160.0000 - val_loss: 38492476.0000\n",
      "Epoch 35/400\n",
      "1617/1617 [==============================] - 2s 1ms/step - loss: 144037120.0000 - val_loss: 43019432.0000\n",
      "Epoch 36/400\n",
      "1617/1617 [==============================] - 2s 1ms/step - loss: 144748976.0000 - val_loss: 38106268.0000\n",
      "Epoch 37/400\n",
      "1617/1617 [==============================] - 2s 1ms/step - loss: 142953824.0000 - val_loss: 41529796.0000\n",
      "Epoch 38/400\n",
      "1617/1617 [==============================] - 2s 1ms/step - loss: 143652416.0000 - val_loss: 35096284.0000\n",
      "Epoch 39/400\n",
      "1617/1617 [==============================] - 2s 1ms/step - loss: 144275328.0000 - val_loss: 43134064.0000\n",
      "Epoch 40/400\n",
      "1617/1617 [==============================] - 2s 1ms/step - loss: 143035312.0000 - val_loss: 39941264.0000\n",
      "Epoch 41/400\n",
      "1617/1617 [==============================] - 2s 1ms/step - loss: 143131632.0000 - val_loss: 40975916.0000\n",
      "Epoch 42/400\n",
      "1617/1617 [==============================] - 2s 1ms/step - loss: 143380864.0000 - val_loss: 45456816.0000\n",
      "Epoch 43/400\n",
      "1617/1617 [==============================] - 2s 1ms/step - loss: 143588160.0000 - val_loss: 44152128.0000\n",
      "Epoch 44/400\n",
      "1617/1617 [==============================] - 2s 1ms/step - loss: 141743232.0000 - val_loss: 39092596.0000\n",
      "Epoch 45/400\n",
      "1617/1617 [==============================] - 2s 1ms/step - loss: 142294720.0000 - val_loss: 47066224.0000\n",
      "Epoch 46/400\n",
      "1617/1617 [==============================] - 2s 1ms/step - loss: 143121520.0000 - val_loss: 41532188.0000\n",
      "Epoch 47/400\n",
      "1617/1617 [==============================] - 2s 1ms/step - loss: 141626480.0000 - val_loss: 44881132.0000\n",
      "Epoch 48/400\n",
      "1617/1617 [==============================] - 2s 1ms/step - loss: 140966688.0000 - val_loss: 50714212.0000\n",
      "Epoch 49/400\n",
      "1617/1617 [==============================] - 2s 1ms/step - loss: 139681728.0000 - val_loss: 49393972.0000\n",
      "Epoch 50/400\n",
      "1617/1617 [==============================] - 2s 1ms/step - loss: 139538144.0000 - val_loss: 58602728.0000\n",
      "Epoch 51/400\n",
      "1617/1617 [==============================] - 2s 1ms/step - loss: 141125648.0000 - val_loss: 54840872.0000\n",
      "Epoch 52/400\n",
      "1617/1617 [==============================] - 2s 1ms/step - loss: 139779184.0000 - val_loss: 54301984.0000\n",
      "Epoch 53/400\n",
      "1617/1617 [==============================] - 2s 1ms/step - loss: 138243568.0000 - val_loss: 53281988.0000\n",
      "Epoch 54/400\n",
      "1617/1617 [==============================] - 2s 1ms/step - loss: 138050464.0000 - val_loss: 55133396.0000\n",
      "Epoch 55/400\n",
      "1617/1617 [==============================] - 2s 1ms/step - loss: 139006704.0000 - val_loss: 54665632.0000\n",
      "Epoch 56/400\n",
      "1617/1617 [==============================] - 2s 1ms/step - loss: 137937840.0000 - val_loss: 55337036.0000\n",
      "Epoch 57/400\n",
      "1617/1617 [==============================] - 2s 1ms/step - loss: 138284192.0000 - val_loss: 49401344.0000\n",
      "Epoch 58/400\n",
      "1617/1617 [==============================] - 2s 1ms/step - loss: 138035984.0000 - val_loss: 53527908.0000\n",
      "Epoch 59/400\n",
      "1617/1617 [==============================] - 2s 1ms/step - loss: 138109408.0000 - val_loss: 49712796.0000\n",
      "Epoch 60/400\n",
      "1617/1617 [==============================] - 2s 1ms/step - loss: 137840208.0000 - val_loss: 57117088.0000\n",
      "Epoch 61/400\n",
      "1617/1617 [==============================] - 2s 1ms/step - loss: 137516688.0000 - val_loss: 51927132.0000\n",
      "Epoch 62/400\n",
      "1617/1617 [==============================] - 2s 1ms/step - loss: 138658240.0000 - val_loss: 54596356.0000\n",
      "Epoch 63/400\n",
      "1617/1617 [==============================] - 2s 1ms/step - loss: 137628016.0000 - val_loss: 59786800.0000\n",
      "Epoch 64/400\n",
      "1617/1617 [==============================] - 2s 1ms/step - loss: 137498736.0000 - val_loss: 58351740.0000\n",
      "Epoch 65/400\n",
      "1617/1617 [==============================] - 2s 1ms/step - loss: 138185008.0000 - val_loss: 54420612.0000\n",
      "Epoch 66/400\n",
      "1617/1617 [==============================] - 2s 1ms/step - loss: 137790368.0000 - val_loss: 49650604.0000\n",
      "Epoch 67/400\n",
      "1617/1617 [==============================] - 2s 1ms/step - loss: 137753808.0000 - val_loss: 53775976.0000\n",
      "Epoch 68/400\n",
      "1617/1617 [==============================] - 2s 1ms/step - loss: 137742976.0000 - val_loss: 50539156.0000\n",
      "Epoch 69/400\n",
      "1617/1617 [==============================] - 2s 1ms/step - loss: 137207616.0000 - val_loss: 54801372.0000\n"
     ]
    },
    {
     "name": "stdout",
     "output_type": "stream",
     "text": [
      "Epoch 70/400\n",
      "1617/1617 [==============================] - 2s 1ms/step - loss: 137645504.0000 - val_loss: 55637068.0000\n",
      "Epoch 71/400\n",
      "1617/1617 [==============================] - 2s 1ms/step - loss: 138387760.0000 - val_loss: 48281700.0000\n",
      "Epoch 72/400\n",
      "1617/1617 [==============================] - 2s 1ms/step - loss: 136968960.0000 - val_loss: 55921512.0000\n",
      "Epoch 73/400\n",
      "1617/1617 [==============================] - 2s 1ms/step - loss: 138008464.0000 - val_loss: 52810844.0000\n",
      "Epoch 74/400\n",
      "1617/1617 [==============================] - 2s 1ms/step - loss: 137115280.0000 - val_loss: 49865300.0000\n",
      "Epoch 75/400\n",
      "1617/1617 [==============================] - 2s 1ms/step - loss: 138179936.0000 - val_loss: 62602740.0000\n",
      "Epoch 76/400\n",
      "1617/1617 [==============================] - 2s 1ms/step - loss: 137748032.0000 - val_loss: 55511768.0000\n",
      "Epoch 77/400\n",
      "1617/1617 [==============================] - 2s 1ms/step - loss: 137404416.0000 - val_loss: 56613176.0000\n",
      "Epoch 78/400\n",
      "1617/1617 [==============================] - 2s 1ms/step - loss: 136684144.0000 - val_loss: 49093924.0000\n",
      "Epoch 79/400\n",
      "1617/1617 [==============================] - 2s 1ms/step - loss: 137677312.0000 - val_loss: 48904448.0000\n",
      "Epoch 80/400\n",
      "1617/1617 [==============================] - 2s 1ms/step - loss: 136964800.0000 - val_loss: 57700256.0000\n",
      "Epoch 81/400\n",
      "1617/1617 [==============================] - 2s 1ms/step - loss: 136926864.0000 - val_loss: 54316212.0000\n",
      "Epoch 82/400\n",
      "1617/1617 [==============================] - 2s 1ms/step - loss: 137391952.0000 - val_loss: 50707384.0000\n",
      "Epoch 83/400\n",
      "1617/1617 [==============================] - 2s 1ms/step - loss: 137851376.0000 - val_loss: 50482288.0000\n",
      "Epoch 84/400\n",
      "1617/1617 [==============================] - 2s 1ms/step - loss: 137059296.0000 - val_loss: 59989404.0000\n",
      "Epoch 85/400\n",
      "1617/1617 [==============================] - 2s 1ms/step - loss: 137036800.0000 - val_loss: 60245096.0000\n",
      "Epoch 86/400\n",
      "1617/1617 [==============================] - 2s 1ms/step - loss: 136660992.0000 - val_loss: 51852176.0000\n",
      "Epoch 87/400\n",
      "1617/1617 [==============================] - 2s 1ms/step - loss: 137175568.0000 - val_loss: 52081352.0000\n",
      "Epoch 88/400\n",
      "1617/1617 [==============================] - 2s 1ms/step - loss: 136721264.0000 - val_loss: 55542784.0000\n",
      "Epoch 89/400\n",
      "1617/1617 [==============================] - 2s 1ms/step - loss: 136461024.0000 - val_loss: 45874972.0000\n",
      "Epoch 90/400\n",
      "1617/1617 [==============================] - 2s 1ms/step - loss: 137617776.0000 - val_loss: 52445264.0000\n",
      "Epoch 91/400\n",
      "1617/1617 [==============================] - 2s 1ms/step - loss: 135535520.0000 - val_loss: 57234716.0000\n",
      "Epoch 92/400\n",
      "1617/1617 [==============================] - 2s 1ms/step - loss: 135457696.0000 - val_loss: 52707188.0000\n",
      "Epoch 93/400\n",
      "1617/1617 [==============================] - 2s 1ms/step - loss: 136423488.0000 - val_loss: 50145948.0000\n",
      "Epoch 94/400\n",
      "1617/1617 [==============================] - 2s 1ms/step - loss: 136301456.0000 - val_loss: 54568204.0000\n",
      "Epoch 95/400\n",
      "1617/1617 [==============================] - 2s 1ms/step - loss: 136703616.0000 - val_loss: 54884352.0000\n",
      "Epoch 96/400\n",
      "1617/1617 [==============================] - 2s 1ms/step - loss: 136077840.0000 - val_loss: 55699572.0000\n",
      "Epoch 97/400\n",
      "1617/1617 [==============================] - 2s 1ms/step - loss: 136426016.0000 - val_loss: 56077616.0000\n",
      "Epoch 98/400\n",
      "1617/1617 [==============================] - 2s 1ms/step - loss: 136732288.0000 - val_loss: 56432752.0000\n",
      "Epoch 99/400\n",
      "1617/1617 [==============================] - 2s 1ms/step - loss: 136148896.0000 - val_loss: 58595732.0000\n",
      "Epoch 100/400\n",
      "1617/1617 [==============================] - 2s 1ms/step - loss: 136847760.0000 - val_loss: 57342252.0000\n",
      "Epoch 101/400\n",
      "1617/1617 [==============================] - 2s 1ms/step - loss: 138041424.0000 - val_loss: 53105532.0000\n",
      "Epoch 102/400\n",
      "1617/1617 [==============================] - 2s 1ms/step - loss: 134836656.0000 - val_loss: 53696424.0000\n",
      "Epoch 103/400\n",
      "1617/1617 [==============================] - 2s 1ms/step - loss: 135468784.0000 - val_loss: 46835904.0000\n",
      "Epoch 104/400\n",
      "1617/1617 [==============================] - 2s 1ms/step - loss: 136419120.0000 - val_loss: 55078088.0000\n",
      "Epoch 105/400\n",
      "1617/1617 [==============================] - 2s 1ms/step - loss: 135968640.0000 - val_loss: 47673248.0000\n",
      "Epoch 106/400\n",
      "1617/1617 [==============================] - 2s 1ms/step - loss: 136277264.0000 - val_loss: 54743716.0000\n",
      "Epoch 107/400\n",
      "1617/1617 [==============================] - 2s 1ms/step - loss: 135689328.0000 - val_loss: 56479076.0000\n",
      "Epoch 108/400\n",
      "1617/1617 [==============================] - 2s 1ms/step - loss: 137194192.0000 - val_loss: 53265748.0000\n",
      "Epoch 109/400\n",
      "1617/1617 [==============================] - 2s 1ms/step - loss: 136386720.0000 - val_loss: 62553072.0000\n",
      "Epoch 110/400\n",
      "1617/1617 [==============================] - 2s 1ms/step - loss: 135452000.0000 - val_loss: 52775388.0000\n",
      "Epoch 111/400\n",
      "1617/1617 [==============================] - 2s 1ms/step - loss: 135840400.0000 - val_loss: 49271788.0000\n",
      "Epoch 112/400\n",
      "1617/1617 [==============================] - 2s 1ms/step - loss: 135950176.0000 - val_loss: 50808540.0000\n",
      "Epoch 113/400\n",
      "1617/1617 [==============================] - 2s 1ms/step - loss: 136876528.0000 - val_loss: 56141704.0000\n",
      "Epoch 114/400\n",
      "1617/1617 [==============================] - 2s 1ms/step - loss: 134176624.0000 - val_loss: 61243012.0000\n",
      "Epoch 115/400\n",
      "1617/1617 [==============================] - 2s 1ms/step - loss: 135559536.0000 - val_loss: 52650252.0000\n",
      "Epoch 116/400\n",
      "1617/1617 [==============================] - 2s 1ms/step - loss: 134614560.0000 - val_loss: 44899392.0000\n",
      "Epoch 117/400\n",
      "1617/1617 [==============================] - 2s 1ms/step - loss: 134375328.0000 - val_loss: 55078012.0000\n",
      "Epoch 118/400\n",
      "1617/1617 [==============================] - 2s 1ms/step - loss: 134692128.0000 - val_loss: 49044796.0000\n",
      "Epoch 119/400\n",
      "1617/1617 [==============================] - 2s 1ms/step - loss: 135414208.0000 - val_loss: 50128140.0000\n",
      "Epoch 120/400\n",
      "1617/1617 [==============================] - 2s 1ms/step - loss: 135499472.0000 - val_loss: 55707752.0000\n",
      "Epoch 121/400\n",
      "1617/1617 [==============================] - 2s 1ms/step - loss: 133594144.0000 - val_loss: 49404876.0000\n",
      "Epoch 122/400\n",
      "1617/1617 [==============================] - 2s 1ms/step - loss: 134186656.0000 - val_loss: 54484952.0000\n",
      "Epoch 123/400\n",
      "1617/1617 [==============================] - 2s 1ms/step - loss: 134399296.0000 - val_loss: 48077088.0000\n",
      "Epoch 124/400\n",
      "1617/1617 [==============================] - 2s 1ms/step - loss: 135363552.0000 - val_loss: 49983844.0000\n",
      "Epoch 125/400\n",
      "1617/1617 [==============================] - 2s 1ms/step - loss: 135487344.0000 - val_loss: 48985108.0000\n",
      "Epoch 126/400\n",
      "1617/1617 [==============================] - 2s 1ms/step - loss: 134111368.0000 - val_loss: 53363768.0000\n",
      "Epoch 127/400\n",
      "1617/1617 [==============================] - 2s 1ms/step - loss: 134501424.0000 - val_loss: 59622484.0000\n",
      "Epoch 128/400\n",
      "1617/1617 [==============================] - 2s 1ms/step - loss: 134801808.0000 - val_loss: 56392780.0000\n",
      "Epoch 129/400\n",
      "1617/1617 [==============================] - 2s 1ms/step - loss: 133995656.0000 - val_loss: 48249972.0000\n",
      "Epoch 130/400\n",
      "1617/1617 [==============================] - 2s 1ms/step - loss: 134559696.0000 - val_loss: 53135652.0000\n",
      "Epoch 131/400\n",
      "1617/1617 [==============================] - 2s 1ms/step - loss: 135123920.0000 - val_loss: 48116852.0000\n",
      "Epoch 132/400\n",
      "1617/1617 [==============================] - 2s 1ms/step - loss: 134509120.0000 - val_loss: 54294108.0000\n",
      "Epoch 133/400\n",
      "1617/1617 [==============================] - 2s 1ms/step - loss: 134182208.0000 - val_loss: 49145208.0000\n",
      "Epoch 134/400\n",
      "1617/1617 [==============================] - 2s 1ms/step - loss: 134904272.0000 - val_loss: 51901864.0000\n",
      "Epoch 135/400\n",
      "1617/1617 [==============================] - 2s 1ms/step - loss: 134596816.0000 - val_loss: 52719404.0000\n",
      "Epoch 136/400\n",
      "1617/1617 [==============================] - 2s 1ms/step - loss: 135513792.0000 - val_loss: 50837380.0000\n",
      "Epoch 137/400\n",
      "1617/1617 [==============================] - 2s 1ms/step - loss: 135218896.0000 - val_loss: 58915692.0000\n",
      "Epoch 138/400\n",
      "1617/1617 [==============================] - 2s 1ms/step - loss: 132917280.0000 - val_loss: 52857412.0000\n",
      "Epoch 139/400\n",
      "1617/1617 [==============================] - 2s 1ms/step - loss: 135027360.0000 - val_loss: 51366600.0000\n",
      "Epoch 140/400\n",
      "1617/1617 [==============================] - 2s 1ms/step - loss: 135652784.0000 - val_loss: 54622976.0000\n",
      "Epoch 141/400\n",
      "1617/1617 [==============================] - 2s 1ms/step - loss: 134016328.0000 - val_loss: 54557616.0000\n",
      "Epoch 142/400\n",
      "1617/1617 [==============================] - 2s 1ms/step - loss: 134205712.0000 - val_loss: 54223704.0000\n",
      "Epoch 143/400\n",
      "1617/1617 [==============================] - 2s 1ms/step - loss: 134758272.0000 - val_loss: 54421492.0000\n",
      "Epoch 144/400\n",
      "1617/1617 [==============================] - 2s 1ms/step - loss: 133982456.0000 - val_loss: 47886204.0000\n",
      "Epoch 145/400\n",
      "1617/1617 [==============================] - 2s 1ms/step - loss: 134265056.0000 - val_loss: 53607432.0000\n",
      "Epoch 146/400\n",
      "1617/1617 [==============================] - 2s 1ms/step - loss: 134936688.0000 - val_loss: 47498936.0000\n",
      "Epoch 147/400\n",
      "1617/1617 [==============================] - 2s 1ms/step - loss: 132973736.0000 - val_loss: 60211028.0000\n",
      "Epoch 148/400\n",
      "1617/1617 [==============================] - 2s 1ms/step - loss: 134944704.0000 - val_loss: 52021736.0000\n",
      "Epoch 149/400\n",
      "1617/1617 [==============================] - 2s 1ms/step - loss: 135740704.0000 - val_loss: 51569436.0000\n",
      "Epoch 150/400\n",
      "1617/1617 [==============================] - 2s 1ms/step - loss: 133887408.0000 - val_loss: 51050136.0000\n",
      "Epoch 151/400\n",
      "1617/1617 [==============================] - 2s 1ms/step - loss: 134837056.0000 - val_loss: 50368556.0000\n",
      "Epoch 152/400\n",
      "1617/1617 [==============================] - 2s 1ms/step - loss: 134370880.0000 - val_loss: 53375804.0000\n",
      "Epoch 153/400\n",
      "1617/1617 [==============================] - 2s 1ms/step - loss: 135764944.0000 - val_loss: 56622136.0000\n",
      "Epoch 154/400\n",
      "1617/1617 [==============================] - 2s 1ms/step - loss: 132532808.0000 - val_loss: 50399584.0000\n",
      "Epoch 155/400\n",
      "1617/1617 [==============================] - 2s 1ms/step - loss: 134014400.0000 - val_loss: 53080400.0000\n",
      "Epoch 156/400\n",
      "1617/1617 [==============================] - 2s 1ms/step - loss: 135346656.0000 - val_loss: 55539976.0000\n",
      "Epoch 157/400\n",
      "1617/1617 [==============================] - 2s 1ms/step - loss: 134025808.0000 - val_loss: 47064224.0000\n",
      "Epoch 158/400\n",
      "1617/1617 [==============================] - 2s 1ms/step - loss: 134027472.0000 - val_loss: 52513568.0000\n",
      "Epoch 159/400\n",
      "1617/1617 [==============================] - 2s 1ms/step - loss: 133264928.0000 - val_loss: 52275348.0000\n",
      "Epoch 160/400\n",
      "1617/1617 [==============================] - 2s 1ms/step - loss: 134288224.0000 - val_loss: 51201124.0000\n",
      "Epoch 161/400\n",
      "1617/1617 [==============================] - 2s 1ms/step - loss: 133204712.0000 - val_loss: 47283176.0000\n",
      "Epoch 162/400\n",
      "1617/1617 [==============================] - 2s 1ms/step - loss: 133889632.0000 - val_loss: 52310600.0000\n",
      "Epoch 163/400\n",
      "1617/1617 [==============================] - 2s 1ms/step - loss: 134204232.0000 - val_loss: 55483056.0000\n",
      "Epoch 164/400\n",
      "1617/1617 [==============================] - 2s 1ms/step - loss: 134433536.0000 - val_loss: 50518840.0000\n",
      "Epoch 165/400\n",
      "1617/1617 [==============================] - 2s 1ms/step - loss: 134491232.0000 - val_loss: 51048756.0000\n",
      "Epoch 166/400\n",
      "1617/1617 [==============================] - 2s 1ms/step - loss: 133916240.0000 - val_loss: 50275256.0000\n",
      "Epoch 167/400\n",
      "1617/1617 [==============================] - 2s 1ms/step - loss: 134078624.0000 - val_loss: 57028236.0000\n",
      "Epoch 168/400\n",
      "1617/1617 [==============================] - 2s 1ms/step - loss: 132723512.0000 - val_loss: 56790476.0000\n",
      "Epoch 169/400\n",
      "1617/1617 [==============================] - 2s 1ms/step - loss: 133045816.0000 - val_loss: 56657840.0000\n",
      "Epoch 170/400\n",
      "1617/1617 [==============================] - 2s 1ms/step - loss: 134813216.0000 - val_loss: 52054188.0000\n",
      "Epoch 171/400\n",
      "1617/1617 [==============================] - 2s 1ms/step - loss: 133289360.0000 - val_loss: 48087020.0000\n",
      "Epoch 172/400\n",
      "1617/1617 [==============================] - 2s 1ms/step - loss: 134238592.0000 - val_loss: 55598516.0000\n",
      "Epoch 173/400\n",
      "1617/1617 [==============================] - 2s 1ms/step - loss: 133233952.0000 - val_loss: 48698024.0000\n",
      "Epoch 174/400\n",
      "1617/1617 [==============================] - 2s 1ms/step - loss: 134226384.0000 - val_loss: 52141084.0000\n",
      "Epoch 175/400\n",
      "1617/1617 [==============================] - 2s 1ms/step - loss: 133062056.0000 - val_loss: 54415336.0000\n",
      "Epoch 176/400\n",
      "1617/1617 [==============================] - 2s 1ms/step - loss: 133533672.0000 - val_loss: 56539568.0000\n",
      "Epoch 177/400\n",
      "1617/1617 [==============================] - 2s 1ms/step - loss: 133678704.0000 - val_loss: 46017720.0000\n",
      "Epoch 178/400\n",
      "1617/1617 [==============================] - 2s 1ms/step - loss: 133380360.0000 - val_loss: 50772968.0000\n",
      "Epoch 179/400\n",
      "1617/1617 [==============================] - 2s 1ms/step - loss: 134306816.0000 - val_loss: 48109412.0000\n",
      "Epoch 180/400\n",
      "1617/1617 [==============================] - 2s 1ms/step - loss: 134385392.0000 - val_loss: 49845356.0000\n",
      "Epoch 181/400\n",
      "1617/1617 [==============================] - 2s 1ms/step - loss: 134163872.0000 - val_loss: 52515660.0000\n",
      "Epoch 182/400\n",
      "1617/1617 [==============================] - 2s 1ms/step - loss: 134433056.0000 - val_loss: 50569028.0000\n",
      "Epoch 183/400\n",
      "1617/1617 [==============================] - 2s 1ms/step - loss: 134440128.0000 - val_loss: 51220124.0000\n",
      "Epoch 184/400\n",
      "1617/1617 [==============================] - 2s 1ms/step - loss: 132230688.0000 - val_loss: 52628260.0000\n",
      "Epoch 185/400\n",
      "1617/1617 [==============================] - 2s 1ms/step - loss: 133937288.0000 - val_loss: 51337128.0000\n",
      "Epoch 186/400\n",
      "1617/1617 [==============================] - 2s 1ms/step - loss: 133940744.0000 - val_loss: 54413492.0000\n",
      "Epoch 187/400\n",
      "1617/1617 [==============================] - 2s 1ms/step - loss: 132967936.0000 - val_loss: 55524100.0000\n",
      "Epoch 188/400\n",
      "1617/1617 [==============================] - 2s 1ms/step - loss: 133744000.0000 - val_loss: 49457144.0000\n",
      "Epoch 189/400\n",
      "1617/1617 [==============================] - 2s 1ms/step - loss: 134624928.0000 - val_loss: 51980980.0000\n",
      "Epoch 190/400\n",
      "1617/1617 [==============================] - 2s 1ms/step - loss: 133151936.0000 - val_loss: 55053472.0000\n",
      "Epoch 191/400\n",
      "1617/1617 [==============================] - 2s 1ms/step - loss: 133328256.0000 - val_loss: 55281536.0000\n",
      "Epoch 192/400\n",
      "1617/1617 [==============================] - 2s 1ms/step - loss: 133037304.0000 - val_loss: 50131012.0000\n",
      "Epoch 193/400\n",
      "1617/1617 [==============================] - 2s 1ms/step - loss: 133101624.0000 - val_loss: 54994844.0000\n",
      "Epoch 194/400\n",
      "1617/1617 [==============================] - 2s 1ms/step - loss: 133165616.0000 - val_loss: 54838344.0000\n",
      "Epoch 195/400\n",
      "1617/1617 [==============================] - 2s 1ms/step - loss: 133235816.0000 - val_loss: 47013568.0000\n",
      "Epoch 196/400\n",
      "1617/1617 [==============================] - 2s 1ms/step - loss: 131553488.0000 - val_loss: 50294712.0000\n",
      "Epoch 197/400\n",
      "1617/1617 [==============================] - 2s 1ms/step - loss: 132877320.0000 - val_loss: 55310596.0000\n",
      "Epoch 198/400\n",
      "1617/1617 [==============================] - 2s 1ms/step - loss: 133688080.0000 - val_loss: 48699100.0000\n",
      "Epoch 199/400\n",
      "1617/1617 [==============================] - 2s 1ms/step - loss: 133147544.0000 - val_loss: 47103468.0000\n",
      "Epoch 200/400\n",
      "1617/1617 [==============================] - 2s 1ms/step - loss: 134056936.0000 - val_loss: 50672156.0000\n",
      "Epoch 201/400\n",
      "1617/1617 [==============================] - 2s 1ms/step - loss: 132393688.0000 - val_loss: 56681032.0000\n",
      "Epoch 202/400\n",
      "1617/1617 [==============================] - 2s 1ms/step - loss: 132841520.0000 - val_loss: 54889784.0000\n",
      "Epoch 203/400\n",
      "1617/1617 [==============================] - 2s 1ms/step - loss: 132248496.0000 - val_loss: 51877712.0000\n",
      "Epoch 204/400\n",
      "1617/1617 [==============================] - 2s 1ms/step - loss: 132660424.0000 - val_loss: 57622556.0000\n",
      "Epoch 205/400\n",
      "1617/1617 [==============================] - 2s 1ms/step - loss: 133676328.0000 - val_loss: 51520648.0000\n",
      "Epoch 206/400\n"
     ]
    },
    {
     "name": "stdout",
     "output_type": "stream",
     "text": [
      "1617/1617 [==============================] - 2s 1ms/step - loss: 132319616.0000 - val_loss: 50533508.0000\n",
      "Epoch 207/400\n",
      "1617/1617 [==============================] - 2s 1ms/step - loss: 132178728.0000 - val_loss: 50943652.0000\n",
      "Epoch 208/400\n",
      "1617/1617 [==============================] - 2s 1ms/step - loss: 132305712.0000 - val_loss: 49275848.0000\n",
      "Epoch 209/400\n",
      "1617/1617 [==============================] - 2s 1ms/step - loss: 132594704.0000 - val_loss: 50457580.0000\n",
      "Epoch 210/400\n",
      "1617/1617 [==============================] - 2s 1ms/step - loss: 132294104.0000 - val_loss: 54152924.0000\n",
      "Epoch 211/400\n",
      "1617/1617 [==============================] - 2s 1ms/step - loss: 132738864.0000 - val_loss: 58333260.0000\n",
      "Epoch 212/400\n",
      "1617/1617 [==============================] - 2s 1ms/step - loss: 132458792.0000 - val_loss: 59998108.0000\n",
      "Epoch 213/400\n",
      "1617/1617 [==============================] - 2s 1ms/step - loss: 131842776.0000 - val_loss: 45957784.0000\n",
      "Epoch 214/400\n",
      "1617/1617 [==============================] - 2s 1ms/step - loss: 131769704.0000 - val_loss: 53000132.0000\n",
      "Epoch 215/400\n",
      "1617/1617 [==============================] - 2s 1ms/step - loss: 133466640.0000 - val_loss: 49890964.0000\n",
      "Epoch 216/400\n",
      "1617/1617 [==============================] - 2s 1ms/step - loss: 132541072.0000 - val_loss: 53770896.0000\n",
      "Epoch 217/400\n",
      "1617/1617 [==============================] - 2s 1ms/step - loss: 131753848.0000 - val_loss: 52908004.0000\n",
      "Epoch 218/400\n",
      "1617/1617 [==============================] - 2s 1ms/step - loss: 132136128.0000 - val_loss: 48208936.0000\n",
      "Epoch 219/400\n",
      "1617/1617 [==============================] - 2s 1ms/step - loss: 132685552.0000 - val_loss: 52049120.0000\n",
      "Epoch 220/400\n",
      "1617/1617 [==============================] - 2s 1ms/step - loss: 133995080.0000 - val_loss: 51656364.0000\n",
      "Epoch 221/400\n",
      "1617/1617 [==============================] - 2s 1ms/step - loss: 130961080.0000 - val_loss: 52169504.0000\n",
      "Epoch 222/400\n",
      "1617/1617 [==============================] - 2s 1ms/step - loss: 132343576.0000 - val_loss: 51625024.0000\n",
      "Epoch 223/400\n",
      "1617/1617 [==============================] - 2s 1ms/step - loss: 133499416.0000 - val_loss: 48911828.0000\n",
      "Epoch 224/400\n",
      "1617/1617 [==============================] - 2s 1ms/step - loss: 133185544.0000 - val_loss: 53872080.0000\n",
      "Epoch 225/400\n",
      "1617/1617 [==============================] - 2s 1ms/step - loss: 132067664.0000 - val_loss: 51661732.0000\n",
      "Epoch 226/400\n",
      "1617/1617 [==============================] - 2s 1ms/step - loss: 131328336.0000 - val_loss: 55576404.0000\n",
      "Epoch 227/400\n",
      "1617/1617 [==============================] - 2s 1ms/step - loss: 131866024.0000 - val_loss: 52740660.0000\n",
      "Epoch 228/400\n",
      "1617/1617 [==============================] - 2s 1ms/step - loss: 133035144.0000 - val_loss: 53165880.0000\n",
      "Epoch 229/400\n",
      "1617/1617 [==============================] - 2s 1ms/step - loss: 131473664.0000 - val_loss: 51917496.0000\n",
      "Epoch 230/400\n",
      "1617/1617 [==============================] - 2s 1ms/step - loss: 131492872.0000 - val_loss: 51101936.0000\n",
      "Epoch 231/400\n",
      "1617/1617 [==============================] - 2s 1ms/step - loss: 132257928.0000 - val_loss: 55577520.0000\n",
      "Epoch 232/400\n",
      "1617/1617 [==============================] - 2s 1ms/step - loss: 130592544.0000 - val_loss: 49362000.0000\n",
      "Epoch 233/400\n",
      "1617/1617 [==============================] - 2s 1ms/step - loss: 131466936.0000 - val_loss: 46788948.0000\n",
      "Epoch 234/400\n",
      "1617/1617 [==============================] - 2s 1ms/step - loss: 132015760.0000 - val_loss: 51676480.0000\n",
      "Epoch 235/400\n",
      "1617/1617 [==============================] - 2s 1ms/step - loss: 131670800.0000 - val_loss: 54678960.0000\n",
      "Epoch 236/400\n",
      "1617/1617 [==============================] - 2s 1ms/step - loss: 132551032.0000 - val_loss: 49231312.0000\n",
      "Epoch 237/400\n",
      "1617/1617 [==============================] - 2s 1ms/step - loss: 131578776.0000 - val_loss: 57034744.0000\n",
      "Epoch 238/400\n",
      "1617/1617 [==============================] - 2s 1ms/step - loss: 130936520.0000 - val_loss: 53536176.0000\n",
      "Epoch 239/400\n",
      "1617/1617 [==============================] - 2s 1ms/step - loss: 131748848.0000 - val_loss: 53256256.0000\n",
      "Epoch 240/400\n",
      "1617/1617 [==============================] - 2s 1ms/step - loss: 130639824.0000 - val_loss: 58997108.0000\n",
      "Epoch 241/400\n",
      "1617/1617 [==============================] - 2s 1ms/step - loss: 131633528.0000 - val_loss: 49529408.0000\n",
      "Epoch 242/400\n",
      "1617/1617 [==============================] - 2s 1ms/step - loss: 132358056.0000 - val_loss: 52508036.0000\n",
      "Epoch 243/400\n",
      "1617/1617 [==============================] - 2s 1ms/step - loss: 131691168.0000 - val_loss: 53291476.0000\n",
      "Epoch 244/400\n",
      "1617/1617 [==============================] - 2s 1ms/step - loss: 131341352.0000 - val_loss: 51701892.0000\n",
      "Epoch 245/400\n",
      "1617/1617 [==============================] - 2s 1ms/step - loss: 132675136.0000 - val_loss: 52742456.0000\n",
      "Epoch 246/400\n",
      "1617/1617 [==============================] - 2s 1ms/step - loss: 131973024.0000 - val_loss: 49138908.0000\n",
      "Epoch 247/400\n",
      "1617/1617 [==============================] - 2s 1ms/step - loss: 131502248.0000 - val_loss: 55020856.0000\n",
      "Epoch 248/400\n",
      "1617/1617 [==============================] - 2s 1ms/step - loss: 132625592.0000 - val_loss: 56337296.0000\n",
      "Epoch 249/400\n",
      "1617/1617 [==============================] - 2s 1ms/step - loss: 131517432.0000 - val_loss: 59135688.0000\n",
      "Epoch 250/400\n",
      "1617/1617 [==============================] - 2s 1ms/step - loss: 131307864.0000 - val_loss: 49303004.0000\n",
      "Epoch 251/400\n",
      "1617/1617 [==============================] - 2s 1ms/step - loss: 131232576.0000 - val_loss: 55435472.0000\n",
      "Epoch 252/400\n",
      "1617/1617 [==============================] - 2s 1ms/step - loss: 132396920.0000 - val_loss: 50057532.0000\n",
      "Epoch 253/400\n",
      "1617/1617 [==============================] - 2s 1ms/step - loss: 131572040.0000 - val_loss: 56729732.0000\n",
      "Epoch 254/400\n",
      "1617/1617 [==============================] - 2s 1ms/step - loss: 131610312.0000 - val_loss: 54140016.0000\n",
      "Epoch 255/400\n",
      "1617/1617 [==============================] - 2s 1ms/step - loss: 130993160.0000 - val_loss: 48167652.0000\n",
      "Epoch 256/400\n",
      "1617/1617 [==============================] - 2s 1ms/step - loss: 130594720.0000 - val_loss: 50730544.0000\n",
      "Epoch 257/400\n",
      "1617/1617 [==============================] - 2s 1ms/step - loss: 129919848.0000 - val_loss: 48253196.0000\n",
      "Epoch 258/400\n",
      "1617/1617 [==============================] - 2s 1ms/step - loss: 130600384.0000 - val_loss: 52113024.0000\n",
      "Epoch 259/400\n",
      "1617/1617 [==============================] - 2s 1ms/step - loss: 130474072.0000 - val_loss: 54026200.0000\n",
      "Epoch 260/400\n",
      "1617/1617 [==============================] - 2s 1ms/step - loss: 130469968.0000 - val_loss: 52869808.0000\n",
      "Epoch 261/400\n",
      "1617/1617 [==============================] - 2s 1ms/step - loss: 129940816.0000 - val_loss: 56134916.0000\n",
      "Epoch 262/400\n",
      "1617/1617 [==============================] - 2s 1ms/step - loss: 130067432.0000 - val_loss: 51794708.0000\n",
      "Epoch 263/400\n",
      "1617/1617 [==============================] - 2s 1ms/step - loss: 130448064.0000 - val_loss: 48390080.0000\n",
      "Epoch 264/400\n",
      "1617/1617 [==============================] - 2s 1ms/step - loss: 129386048.0000 - val_loss: 52144224.0000\n",
      "Epoch 265/400\n",
      "1617/1617 [==============================] - 2s 1ms/step - loss: 130460464.0000 - val_loss: 51553396.0000\n",
      "Epoch 266/400\n",
      "1617/1617 [==============================] - 2s 1ms/step - loss: 130972808.0000 - val_loss: 52437080.0000\n",
      "Epoch 267/400\n",
      "1617/1617 [==============================] - 2s 1ms/step - loss: 130548712.0000 - val_loss: 54384072.0000\n",
      "Epoch 268/400\n",
      "1617/1617 [==============================] - 2s 1ms/step - loss: 130887888.0000 - val_loss: 51118912.0000\n",
      "Epoch 269/400\n",
      "1617/1617 [==============================] - 2s 1ms/step - loss: 129910312.0000 - val_loss: 48101884.0000\n",
      "Epoch 270/400\n",
      "1617/1617 [==============================] - 2s 1ms/step - loss: 131397720.0000 - val_loss: 49912940.0000\n",
      "Epoch 271/400\n",
      "1617/1617 [==============================] - 2s 1ms/step - loss: 130461472.0000 - val_loss: 51253392.0000\n",
      "Epoch 272/400\n",
      "1617/1617 [==============================] - 2s 1ms/step - loss: 131422448.0000 - val_loss: 53456716.0000\n",
      "Epoch 273/400\n",
      "1617/1617 [==============================] - 2s 1ms/step - loss: 130157896.0000 - val_loss: 53082508.0000\n",
      "Epoch 274/400\n",
      "1617/1617 [==============================] - 2s 1ms/step - loss: 130903616.0000 - val_loss: 45580736.0000\n",
      "Epoch 275/400\n",
      "1617/1617 [==============================] - 2s 1ms/step - loss: 129385536.0000 - val_loss: 50563952.0000\n",
      "Epoch 276/400\n",
      "1617/1617 [==============================] - 2s 1ms/step - loss: 130931112.0000 - val_loss: 49737340.0000\n",
      "Epoch 277/400\n",
      "1617/1617 [==============================] - 2s 1ms/step - loss: 130389232.0000 - val_loss: 53276416.0000\n",
      "Epoch 278/400\n",
      "1617/1617 [==============================] - 2s 1ms/step - loss: 130133728.0000 - val_loss: 48285208.0000\n",
      "Epoch 279/400\n",
      "1617/1617 [==============================] - 2s 1ms/step - loss: 128908016.0000 - val_loss: 47869116.0000\n",
      "Epoch 280/400\n",
      "1617/1617 [==============================] - 2s 1ms/step - loss: 129256608.0000 - val_loss: 49759424.0000\n",
      "Epoch 281/400\n",
      "1617/1617 [==============================] - 2s 1ms/step - loss: 130019680.0000 - val_loss: 45412180.0000\n",
      "Epoch 282/400\n",
      "1617/1617 [==============================] - 2s 1ms/step - loss: 130997984.0000 - val_loss: 53776208.0000\n",
      "Epoch 283/400\n",
      "1617/1617 [==============================] - 2s 1ms/step - loss: 129618856.0000 - val_loss: 51088496.0000\n",
      "Epoch 284/400\n",
      "1617/1617 [==============================] - 2s 1ms/step - loss: 129113208.0000 - val_loss: 50516404.0000\n",
      "Epoch 285/400\n",
      "1617/1617 [==============================] - 2s 1ms/step - loss: 129651496.0000 - val_loss: 47099008.0000\n",
      "Epoch 286/400\n",
      "1617/1617 [==============================] - 2s 1ms/step - loss: 129049752.0000 - val_loss: 46836604.0000\n",
      "Epoch 287/400\n",
      "1617/1617 [==============================] - 2s 1ms/step - loss: 129055496.0000 - val_loss: 48462012.0000\n",
      "Epoch 288/400\n",
      "1617/1617 [==============================] - 2s 1ms/step - loss: 129220152.0000 - val_loss: 53191268.0000\n",
      "Epoch 289/400\n",
      "1617/1617 [==============================] - 2s 1ms/step - loss: 130698944.0000 - val_loss: 44419284.0000\n",
      "Epoch 290/400\n",
      "1617/1617 [==============================] - 2s 1ms/step - loss: 129005616.0000 - val_loss: 58699720.0000\n",
      "Epoch 291/400\n",
      "1617/1617 [==============================] - 2s 1ms/step - loss: 131263488.0000 - val_loss: 50476288.0000\n",
      "Epoch 292/400\n",
      "1617/1617 [==============================] - 2s 1ms/step - loss: 129809008.0000 - val_loss: 50025936.0000\n",
      "Epoch 293/400\n",
      "1617/1617 [==============================] - 2s 1ms/step - loss: 129667256.0000 - val_loss: 52030940.0000\n",
      "Epoch 294/400\n",
      "1617/1617 [==============================] - 2s 1ms/step - loss: 129189960.0000 - val_loss: 53837400.0000\n",
      "Epoch 295/400\n",
      "1617/1617 [==============================] - 2s 1ms/step - loss: 129516832.0000 - val_loss: 54023416.0000\n",
      "Epoch 296/400\n",
      "1617/1617 [==============================] - 2s 1ms/step - loss: 129848008.0000 - val_loss: 45301516.0000\n",
      "Epoch 297/400\n",
      "1617/1617 [==============================] - 2s 1ms/step - loss: 127901880.0000 - val_loss: 49734196.0000\n",
      "Epoch 298/400\n",
      "1617/1617 [==============================] - 2s 1ms/step - loss: 129812544.0000 - val_loss: 45008492.0000\n",
      "Epoch 299/400\n",
      "1617/1617 [==============================] - 2s 1ms/step - loss: 129954064.0000 - val_loss: 48884944.0000\n",
      "Epoch 300/400\n",
      "1617/1617 [==============================] - 2s 1ms/step - loss: 131427304.0000 - val_loss: 53997700.0000\n",
      "Epoch 301/400\n",
      "1617/1617 [==============================] - 2s 1ms/step - loss: 128919968.0000 - val_loss: 48453912.0000\n",
      "Epoch 302/400\n",
      "1617/1617 [==============================] - 2s 1ms/step - loss: 129614896.0000 - val_loss: 50613984.0000\n",
      "Epoch 303/400\n",
      "1617/1617 [==============================] - 2s 1ms/step - loss: 128542152.0000 - val_loss: 56507140.0000\n",
      "Epoch 304/400\n",
      "1617/1617 [==============================] - 2s 1ms/step - loss: 130538448.0000 - val_loss: 53418128.0000\n",
      "Epoch 305/400\n",
      "1617/1617 [==============================] - 2s 1ms/step - loss: 129216728.0000 - val_loss: 56481672.0000\n",
      "Epoch 306/400\n",
      "1617/1617 [==============================] - 2s 1ms/step - loss: 129628392.0000 - val_loss: 52172820.0000\n",
      "Epoch 307/400\n",
      "1617/1617 [==============================] - 2s 1ms/step - loss: 130438776.0000 - val_loss: 56164404.0000\n",
      "Epoch 308/400\n",
      "1617/1617 [==============================] - 2s 1ms/step - loss: 130461744.0000 - val_loss: 52997104.0000\n",
      "Epoch 309/400\n",
      "1617/1617 [==============================] - 2s 1ms/step - loss: 129311720.0000 - val_loss: 49574760.0000\n",
      "Epoch 310/400\n",
      "1617/1617 [==============================] - 2s 1ms/step - loss: 129737248.0000 - val_loss: 54168372.0000\n",
      "Epoch 311/400\n",
      "1617/1617 [==============================] - 2s 1ms/step - loss: 128566712.0000 - val_loss: 47652528.0000\n",
      "Epoch 312/400\n",
      "1617/1617 [==============================] - 2s 1ms/step - loss: 129343992.0000 - val_loss: 46109960.0000\n",
      "Epoch 313/400\n",
      "1617/1617 [==============================] - 2s 1ms/step - loss: 130416880.0000 - val_loss: 50860640.0000\n",
      "Epoch 314/400\n",
      "1617/1617 [==============================] - 2s 1ms/step - loss: 130011704.0000 - val_loss: 53717412.0000\n",
      "Epoch 315/400\n",
      "1617/1617 [==============================] - 2s 1ms/step - loss: 128900688.0000 - val_loss: 45082424.0000\n",
      "Epoch 316/400\n",
      "1617/1617 [==============================] - 2s 1ms/step - loss: 129669256.0000 - val_loss: 57144692.0000\n",
      "Epoch 317/400\n",
      "1617/1617 [==============================] - 2s 1ms/step - loss: 129054792.0000 - val_loss: 56222840.0000\n",
      "Epoch 318/400\n",
      "1617/1617 [==============================] - 2s 1ms/step - loss: 128970232.0000 - val_loss: 54305452.0000\n",
      "Epoch 319/400\n",
      "1617/1617 [==============================] - 2s 1ms/step - loss: 129258720.0000 - val_loss: 54604912.0000\n",
      "Epoch 320/400\n",
      "1617/1617 [==============================] - 2s 1ms/step - loss: 129454624.0000 - val_loss: 53245228.0000\n",
      "Epoch 321/400\n",
      "1617/1617 [==============================] - 2s 1ms/step - loss: 128597280.0000 - val_loss: 49819844.0000\n",
      "Epoch 322/400\n",
      "1617/1617 [==============================] - 2s 1ms/step - loss: 129327184.0000 - val_loss: 53986672.0000\n",
      "Epoch 323/400\n",
      "1617/1617 [==============================] - 2s 1ms/step - loss: 128251256.0000 - val_loss: 52362052.0000\n",
      "Epoch 324/400\n",
      "1617/1617 [==============================] - 2s 1ms/step - loss: 128128664.0000 - val_loss: 44645584.0000\n",
      "Epoch 325/400\n",
      "1617/1617 [==============================] - 2s 1ms/step - loss: 130033632.0000 - val_loss: 53010228.0000\n",
      "Epoch 326/400\n",
      "1617/1617 [==============================] - 2s 1ms/step - loss: 129565440.0000 - val_loss: 57112040.0000\n",
      "Epoch 327/400\n",
      "1617/1617 [==============================] - 2s 1ms/step - loss: 129734472.0000 - val_loss: 51745880.0000\n",
      "Epoch 328/400\n",
      "1617/1617 [==============================] - 2s 1ms/step - loss: 129330880.0000 - val_loss: 48405160.0000\n",
      "Epoch 329/400\n",
      "1617/1617 [==============================] - 2s 1ms/step - loss: 128912144.0000 - val_loss: 53450676.0000\n",
      "Epoch 330/400\n",
      "1617/1617 [==============================] - 2s 1ms/step - loss: 128753064.0000 - val_loss: 58335596.0000\n",
      "Epoch 331/400\n",
      "1617/1617 [==============================] - 2s 1ms/step - loss: 129783624.0000 - val_loss: 59330424.0000\n",
      "Epoch 332/400\n",
      "1617/1617 [==============================] - 2s 1ms/step - loss: 130009520.0000 - val_loss: 51850684.0000\n",
      "Epoch 333/400\n",
      "1617/1617 [==============================] - 2s 1ms/step - loss: 129714424.0000 - val_loss: 53408060.0000\n",
      "Epoch 334/400\n",
      "1617/1617 [==============================] - 2s 1ms/step - loss: 129809744.0000 - val_loss: 45886116.0000\n",
      "Epoch 335/400\n",
      "1617/1617 [==============================] - 2s 1ms/step - loss: 128403880.0000 - val_loss: 55373456.0000\n",
      "Epoch 336/400\n",
      "1617/1617 [==============================] - 2s 1ms/step - loss: 129621696.0000 - val_loss: 57481752.0000\n",
      "Epoch 337/400\n",
      "1617/1617 [==============================] - 2s 1ms/step - loss: 129892248.0000 - val_loss: 53003836.0000\n",
      "Epoch 338/400\n",
      "1617/1617 [==============================] - 2s 1ms/step - loss: 127941344.0000 - val_loss: 54301472.0000\n",
      "Epoch 339/400\n",
      "1617/1617 [==============================] - 2s 1ms/step - loss: 128571824.0000 - val_loss: 58539188.0000\n",
      "Epoch 340/400\n",
      "1617/1617 [==============================] - 2s 1ms/step - loss: 128971848.0000 - val_loss: 51741204.0000\n",
      "Epoch 341/400\n",
      "1617/1617 [==============================] - 2s 1ms/step - loss: 129838368.0000 - val_loss: 54983160.0000\n",
      "Epoch 342/400\n"
     ]
    },
    {
     "name": "stdout",
     "output_type": "stream",
     "text": [
      "1617/1617 [==============================] - 2s 1ms/step - loss: 129448944.0000 - val_loss: 46965548.0000\n",
      "Epoch 343/400\n",
      "1617/1617 [==============================] - 2s 1ms/step - loss: 128797288.0000 - val_loss: 46949932.0000\n",
      "Epoch 344/400\n",
      "1617/1617 [==============================] - 2s 1ms/step - loss: 129221848.0000 - val_loss: 51281208.0000\n",
      "Epoch 345/400\n",
      "1617/1617 [==============================] - 2s 1ms/step - loss: 129773208.0000 - val_loss: 46311820.0000\n",
      "Epoch 346/400\n",
      "1617/1617 [==============================] - 2s 1ms/step - loss: 128929176.0000 - val_loss: 57406096.0000\n",
      "Epoch 347/400\n",
      "1617/1617 [==============================] - 2s 1ms/step - loss: 128427216.0000 - val_loss: 47003044.0000\n",
      "Epoch 348/400\n",
      "1617/1617 [==============================] - 2s 1ms/step - loss: 128666192.0000 - val_loss: 48454188.0000\n",
      "Epoch 349/400\n",
      "1617/1617 [==============================] - 2s 1ms/step - loss: 129777360.0000 - val_loss: 44851996.0000\n",
      "Epoch 350/400\n",
      "1617/1617 [==============================] - 2s 1ms/step - loss: 129800504.0000 - val_loss: 50601972.0000\n",
      "Epoch 351/400\n",
      "1617/1617 [==============================] - 2s 1ms/step - loss: 128315984.0000 - val_loss: 47200104.0000\n",
      "Epoch 352/400\n",
      "1617/1617 [==============================] - 2s 1ms/step - loss: 129073056.0000 - val_loss: 55377828.0000\n",
      "Epoch 353/400\n",
      "1617/1617 [==============================] - 2s 1ms/step - loss: 128561744.0000 - val_loss: 51013224.0000\n",
      "Epoch 354/400\n",
      "1617/1617 [==============================] - 2s 1ms/step - loss: 128741648.0000 - val_loss: 44107664.0000\n",
      "Epoch 355/400\n",
      "1617/1617 [==============================] - 2s 1ms/step - loss: 129036080.0000 - val_loss: 53628444.0000\n",
      "Epoch 356/400\n",
      "1617/1617 [==============================] - 2s 1ms/step - loss: 130302160.0000 - val_loss: 49495424.0000\n",
      "Epoch 357/400\n",
      "1617/1617 [==============================] - 2s 1ms/step - loss: 129697512.0000 - val_loss: 52851540.0000\n",
      "Epoch 358/400\n",
      "1617/1617 [==============================] - 2s 1ms/step - loss: 129325760.0000 - val_loss: 46449332.0000\n",
      "Epoch 359/400\n",
      "1617/1617 [==============================] - 2s 1ms/step - loss: 128710048.0000 - val_loss: 43123324.0000\n",
      "Epoch 360/400\n",
      "1617/1617 [==============================] - 2s 1ms/step - loss: 129898568.0000 - val_loss: 49545200.0000\n",
      "Epoch 361/400\n",
      "1617/1617 [==============================] - 2s 1ms/step - loss: 129461672.0000 - val_loss: 61789604.0000\n",
      "Epoch 362/400\n",
      "1617/1617 [==============================] - 2s 1ms/step - loss: 129776792.0000 - val_loss: 50899900.0000\n",
      "Epoch 363/400\n",
      "1617/1617 [==============================] - 2s 1ms/step - loss: 127879656.0000 - val_loss: 59181500.0000\n",
      "Epoch 364/400\n",
      "1617/1617 [==============================] - 2s 1ms/step - loss: 129275768.0000 - val_loss: 52989436.0000\n",
      "Epoch 365/400\n",
      "1617/1617 [==============================] - 2s 1ms/step - loss: 128574752.0000 - val_loss: 48650872.0000\n",
      "Epoch 366/400\n",
      "1617/1617 [==============================] - 2s 1ms/step - loss: 129210392.0000 - val_loss: 52889664.0000\n",
      "Epoch 367/400\n",
      "1617/1617 [==============================] - 2s 1ms/step - loss: 128741848.0000 - val_loss: 54862072.0000\n",
      "Epoch 368/400\n",
      "1617/1617 [==============================] - 2s 1ms/step - loss: 129387824.0000 - val_loss: 51993224.0000\n",
      "Epoch 369/400\n",
      "1617/1617 [==============================] - 2s 1ms/step - loss: 129979408.0000 - val_loss: 48367040.0000\n",
      "Epoch 370/400\n",
      "1617/1617 [==============================] - 2s 1ms/step - loss: 129343672.0000 - val_loss: 52956436.0000\n",
      "Epoch 371/400\n",
      "1617/1617 [==============================] - 2s 1ms/step - loss: 128944328.0000 - val_loss: 46797352.0000\n",
      "Epoch 372/400\n",
      "1617/1617 [==============================] - 2s 1ms/step - loss: 129754008.0000 - val_loss: 49067868.0000\n",
      "Epoch 373/400\n",
      "1617/1617 [==============================] - 2s 1ms/step - loss: 128354144.0000 - val_loss: 47193604.0000\n",
      "Epoch 374/400\n",
      "1617/1617 [==============================] - 2s 1ms/step - loss: 129525608.0000 - val_loss: 46702016.0000\n",
      "Epoch 375/400\n",
      "1617/1617 [==============================] - 2s 1ms/step - loss: 129154336.0000 - val_loss: 55221232.0000\n",
      "Epoch 376/400\n",
      "1617/1617 [==============================] - 2s 1ms/step - loss: 128720272.0000 - val_loss: 52075720.0000\n",
      "Epoch 377/400\n",
      "1617/1617 [==============================] - 2s 1ms/step - loss: 128676232.0000 - val_loss: 47419472.0000\n",
      "Epoch 378/400\n",
      "1617/1617 [==============================] - 2s 1ms/step - loss: 129108424.0000 - val_loss: 46895192.0000\n",
      "Epoch 379/400\n",
      "1617/1617 [==============================] - 2s 1ms/step - loss: 129012104.0000 - val_loss: 54158548.0000\n",
      "Epoch 380/400\n",
      "1617/1617 [==============================] - 2s 1ms/step - loss: 128516792.0000 - val_loss: 44823452.0000\n",
      "Epoch 381/400\n",
      "1617/1617 [==============================] - 2s 1ms/step - loss: 128355840.0000 - val_loss: 54965972.0000\n",
      "Epoch 382/400\n",
      "1617/1617 [==============================] - 2s 1ms/step - loss: 128524664.0000 - val_loss: 53410588.0000\n",
      "Epoch 383/400\n",
      "1617/1617 [==============================] - 2s 1ms/step - loss: 128301928.0000 - val_loss: 58561852.0000\n",
      "Epoch 384/400\n",
      "1617/1617 [==============================] - 2s 1ms/step - loss: 129604184.0000 - val_loss: 51174836.0000\n",
      "Epoch 385/400\n",
      "1617/1617 [==============================] - 2s 1ms/step - loss: 129592408.0000 - val_loss: 51504788.0000\n",
      "Epoch 386/400\n",
      "1617/1617 [==============================] - 2s 1ms/step - loss: 129360384.0000 - val_loss: 52075280.0000\n",
      "Epoch 387/400\n",
      "1617/1617 [==============================] - 2s 1ms/step - loss: 128757792.0000 - val_loss: 55353828.0000\n",
      "Epoch 388/400\n",
      "1617/1617 [==============================] - 2s 1ms/step - loss: 129418408.0000 - val_loss: 48135760.0000\n",
      "Epoch 389/400\n",
      "1617/1617 [==============================] - 2s 1ms/step - loss: 129107496.0000 - val_loss: 53188872.0000\n",
      "Epoch 390/400\n",
      "1617/1617 [==============================] - 2s 1ms/step - loss: 128642272.0000 - val_loss: 50232236.0000\n",
      "Epoch 391/400\n",
      "1617/1617 [==============================] - 2s 1ms/step - loss: 127842968.0000 - val_loss: 50944596.0000\n",
      "Epoch 392/400\n",
      "1617/1617 [==============================] - 2s 1ms/step - loss: 128328848.0000 - val_loss: 49628360.0000\n",
      "Epoch 393/400\n",
      "1617/1617 [==============================] - 2s 1ms/step - loss: 129789792.0000 - val_loss: 53560580.0000\n",
      "Epoch 394/400\n",
      "1617/1617 [==============================] - 2s 1ms/step - loss: 128820688.0000 - val_loss: 50668268.0000\n",
      "Epoch 395/400\n",
      "1617/1617 [==============================] - 2s 1ms/step - loss: 129025656.0000 - val_loss: 47773196.0000\n",
      "Epoch 396/400\n",
      "1617/1617 [==============================] - 2s 1ms/step - loss: 129402832.0000 - val_loss: 47582488.0000\n",
      "Epoch 397/400\n",
      "1617/1617 [==============================] - 2s 1ms/step - loss: 128335096.0000 - val_loss: 48995892.0000\n",
      "Epoch 398/400\n",
      "1617/1617 [==============================] - 2s 1ms/step - loss: 129591760.0000 - val_loss: 50069580.0000\n",
      "Epoch 399/400\n",
      "1617/1617 [==============================] - 2s 1ms/step - loss: 128690832.0000 - val_loss: 50897248.0000\n",
      "Epoch 400/400\n",
      "1617/1617 [==============================] - 2s 1ms/step - loss: 128930280.0000 - val_loss: 50018812.0000\n"
     ]
    },
    {
     "data": {
      "text/plain": [
       "<keras.callbacks.History at 0x18e86146fd0>"
      ]
     },
     "execution_count": 70,
     "metadata": {},
     "output_type": "execute_result"
    }
   ],
   "source": [
    "model.fit(x=X_train,y=y_train.values,\n",
    "          validation_data=(X_test,y_test.values),\n",
    "          batch_size=130,epochs=400)"
   ]
  },
  {
   "cell_type": "code",
   "execution_count": 71,
   "id": "0303decc",
   "metadata": {},
   "outputs": [],
   "source": [
    "losses = pd.DataFrame(model.history.history)"
   ]
  },
  {
   "cell_type": "code",
   "execution_count": 72,
   "id": "8b077175",
   "metadata": {},
   "outputs": [
    {
     "data": {
      "text/html": [
       "<div>\n",
       "<style scoped>\n",
       "    .dataframe tbody tr th:only-of-type {\n",
       "        vertical-align: middle;\n",
       "    }\n",
       "\n",
       "    .dataframe tbody tr th {\n",
       "        vertical-align: top;\n",
       "    }\n",
       "\n",
       "    .dataframe thead th {\n",
       "        text-align: right;\n",
       "    }\n",
       "</style>\n",
       "<table border=\"1\" class=\"dataframe\">\n",
       "  <thead>\n",
       "    <tr style=\"text-align: right;\">\n",
       "      <th></th>\n",
       "      <th>loss</th>\n",
       "      <th>val_loss</th>\n",
       "    </tr>\n",
       "  </thead>\n",
       "  <tbody>\n",
       "    <tr>\n",
       "      <th>0</th>\n",
       "      <td>555375872.0</td>\n",
       "      <td>141979696.0</td>\n",
       "    </tr>\n",
       "    <tr>\n",
       "      <th>1</th>\n",
       "      <td>172617360.0</td>\n",
       "      <td>52896460.0</td>\n",
       "    </tr>\n",
       "    <tr>\n",
       "      <th>2</th>\n",
       "      <td>159878784.0</td>\n",
       "      <td>46913248.0</td>\n",
       "    </tr>\n",
       "    <tr>\n",
       "      <th>3</th>\n",
       "      <td>158656560.0</td>\n",
       "      <td>47948476.0</td>\n",
       "    </tr>\n",
       "    <tr>\n",
       "      <th>4</th>\n",
       "      <td>157433344.0</td>\n",
       "      <td>42270636.0</td>\n",
       "    </tr>\n",
       "    <tr>\n",
       "      <th>...</th>\n",
       "      <td>...</td>\n",
       "      <td>...</td>\n",
       "    </tr>\n",
       "    <tr>\n",
       "      <th>395</th>\n",
       "      <td>129402832.0</td>\n",
       "      <td>47582488.0</td>\n",
       "    </tr>\n",
       "    <tr>\n",
       "      <th>396</th>\n",
       "      <td>128335096.0</td>\n",
       "      <td>48995892.0</td>\n",
       "    </tr>\n",
       "    <tr>\n",
       "      <th>397</th>\n",
       "      <td>129591760.0</td>\n",
       "      <td>50069580.0</td>\n",
       "    </tr>\n",
       "    <tr>\n",
       "      <th>398</th>\n",
       "      <td>128690832.0</td>\n",
       "      <td>50897248.0</td>\n",
       "    </tr>\n",
       "    <tr>\n",
       "      <th>399</th>\n",
       "      <td>128930280.0</td>\n",
       "      <td>50018812.0</td>\n",
       "    </tr>\n",
       "  </tbody>\n",
       "</table>\n",
       "<p>400 rows × 2 columns</p>\n",
       "</div>"
      ],
      "text/plain": [
       "            loss     val_loss\n",
       "0    555375872.0  141979696.0\n",
       "1    172617360.0   52896460.0\n",
       "2    159878784.0   46913248.0\n",
       "3    158656560.0   47948476.0\n",
       "4    157433344.0   42270636.0\n",
       "..           ...          ...\n",
       "395  129402832.0   47582488.0\n",
       "396  128335096.0   48995892.0\n",
       "397  129591760.0   50069580.0\n",
       "398  128690832.0   50897248.0\n",
       "399  128930280.0   50018812.0\n",
       "\n",
       "[400 rows x 2 columns]"
      ]
     },
     "execution_count": 72,
     "metadata": {},
     "output_type": "execute_result"
    }
   ],
   "source": [
    "losses"
   ]
  },
  {
   "cell_type": "code",
   "execution_count": 73,
   "id": "f197f64b",
   "metadata": {},
   "outputs": [
    {
     "data": {
      "text/plain": [
       "<AxesSubplot:>"
      ]
     },
     "execution_count": 73,
     "metadata": {},
     "output_type": "execute_result"
    },
    {
     "data": {
      "text/plain": [
       "<Figure size 864x576 with 0 Axes>"
      ]
     },
     "metadata": {},
     "output_type": "display_data"
    },
    {
     "data": {
      "image/png": "[encoded data removed]",
      "text/plain": [
       "<Figure size 432x288 with 1 Axes>"
      ]
     },
     "metadata": {
      "needs_background": "light"
     },
     "output_type": "display_data"
    }
   ],
   "source": [
    "plt.figure(figsize=(12,8))\n",
    "losses.plot()"
   ]
  },
  {
   "cell_type": "code",
   "execution_count": null,
   "id": "ebc37af5",
   "metadata": {},
   "outputs": [],
   "source": []
  },
  {
   "cell_type": "code",
   "execution_count": null,
   "id": "39dcef2e",
   "metadata": {},
   "outputs": [],
   "source": []
  },
  {
   "cell_type": "code",
   "execution_count": 74,
   "id": "6aaefbea",
   "metadata": {},
   "outputs": [],
   "source": [
    "from sklearn.metrics import mean_squared_error,mean_absolute_error,explained_variance_score"
   ]
  },
  {
   "cell_type": "code",
   "execution_count": 75,
   "id": "b23de633",
   "metadata": {},
   "outputs": [],
   "source": [
    "predictions = model.predict(X_test)"
   ]
  },
  {
   "cell_type": "code",
   "execution_count": 76,
   "id": "9c2a0bf5",
   "metadata": {},
   "outputs": [
    {
     "data": {
      "text/plain": [
       "[<matplotlib.lines.Line2D at 0x18e878ce700>]"
      ]
     },
     "execution_count": 76,
     "metadata": {},
     "output_type": "execute_result"
    },
    {
     "data": {
      "image/png": "[encoded data removed]",
      "text/plain": [
       "<Figure size 864x576 with 1 Axes>"
      ]
     },
     "metadata": {
      "needs_background": "light"
     },
     "output_type": "display_data"
    }
   ],
   "source": [
    "plt.figure(figsize=(12,8))\n",
    "# Our predictions\n",
    "plt.scatter(y_test,predictions)\n",
    "\n",
    "# Perfect predictions\n",
    "plt.plot(y_test,y_test,'r')"
   ]
  },
  {
   "cell_type": "code",
   "execution_count": 78,
   "id": "31e100ed",
   "metadata": {},
   "outputs": [],
   "source": [
    "errors = y_test.values.reshape(90046, 1) - predictions"
   ]
  },
  {
   "cell_type": "code",
   "execution_count": 79,
   "id": "bc08eb0a",
   "metadata": {},
   "outputs": [
    {
     "name": "stderr",
     "output_type": "stream",
     "text": [
      "D:\\Anaconda\\lib\\site-packages\\seaborn\\distributions.py:2619: FutureWarning: `distplot` is a deprecated function and will be removed in a future version. Please adapt your code to use either `displot` (a figure-level function with similar flexibility) or `histplot` (an axes-level function for histograms).\n",
      "  warnings.warn(msg, FutureWarning)\n"
     ]
    },
    {
     "data": {
      "text/plain": [
       "<AxesSubplot:ylabel='Density'>"
      ]
     },
     "execution_count": 79,
     "metadata": {},
     "output_type": "execute_result"
    },
    {
     "data": {
      "image/png": "[encoded data removed]",
      "text/plain": [
       "<Figure size 432x288 with 1 Axes>"
      ]
     },
     "metadata": {
      "needs_background": "light"
     },
     "output_type": "display_data"
    }
   ],
   "source": [
    "sns.distplot(errors)"
   ]
  },
  {
   "cell_type": "markdown",
   "id": "388aef79",
   "metadata": {},
   "source": [
    "Lets predict with our model using 2 random flights from the dataset"
   ]
  },
  {
   "cell_type": "code",
   "execution_count": 86,
   "id": "8bcd0994",
   "metadata": {},
   "outputs": [],
   "source": [
    "new_flight = df.drop('price',axis=1).iloc[666]"
   ]
  },
  {
   "cell_type": "code",
   "execution_count": 87,
   "id": "f45b0fdf",
   "metadata": {},
   "outputs": [],
   "source": [
    "new_flight = scaler.transform(new_flight.values.reshape(-1, 30))"
   ]
  },
  {
   "cell_type": "code",
   "execution_count": 88,
   "id": "ccf31d07",
   "metadata": {},
   "outputs": [
    {
     "data": {
      "text/plain": [
       "array([[11574.16]], dtype=float32)"
      ]
     },
     "execution_count": 88,
     "metadata": {},
     "output_type": "execute_result"
    }
   ],
   "source": [
    "model.predict(new_flight)"
   ]
  },
  {
   "cell_type": "code",
   "execution_count": 92,
   "id": "2969b709",
   "metadata": {},
   "outputs": [
    {
     "data": {
      "text/plain": [
       "10260"
      ]
     },
     "execution_count": 92,
     "metadata": {},
     "output_type": "execute_result"
    }
   ],
   "source": [
    "df.price.iloc[666]"
   ]
  },
  {
   "cell_type": "markdown",
   "id": "08ebeaa3",
   "metadata": {},
   "source": [
    "The prediction was 1314 more than the actual value."
   ]
  },
  {
   "cell_type": "code",
   "execution_count": 90,
   "id": "e69a89c8",
   "metadata": {},
   "outputs": [
    {
     "data": {
      "text/plain": [
       "array([[6839.7427]], dtype=float32)"
      ]
     },
     "execution_count": 90,
     "metadata": {},
     "output_type": "execute_result"
    }
   ],
   "source": [
    "new_flight = df.drop('price',axis=1).iloc[55555]\n",
    "new_flight = scaler.transform(new_flight.values.reshape(-1, 30))\n",
    "model.predict(new_flight)"
   ]
  },
  {
   "cell_type": "code",
   "execution_count": 93,
   "id": "a3abab26",
   "metadata": {},
   "outputs": [
    {
     "data": {
      "text/plain": [
       "7135"
      ]
     },
     "execution_count": 93,
     "metadata": {},
     "output_type": "execute_result"
    }
   ],
   "source": [
    "df.price.iloc[55555]"
   ]
  },
  {
   "cell_type": "markdown",
   "id": "899dfd1c",
   "metadata": {},
   "source": [
    "The prediction was 296 less than the actual value."
   ]
  }
 ],
 "metadata": {
  "kernelspec": {
   "display_name": "Python 3 (ipykernel)",
   "language": "python",
   "name": "python3"
  },
  "language_info": {
   "codemirror_mode": {
    "name": "ipython",
    "version": 3
   },
   "file_extension": ".py",
   "mimetype": "text/x-python",
   "name": "python",
   "nbconvert_exporter": "python",
   "pygments_lexer": "ipython3",
   "version": "3.9.7"
  }
 },
 "nbformat": 4,
 "nbformat_minor": 5
}
